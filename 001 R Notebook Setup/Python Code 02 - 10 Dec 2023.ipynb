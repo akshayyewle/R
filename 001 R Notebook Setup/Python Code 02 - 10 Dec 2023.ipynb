{
 "cells": [
  {
   "cell_type": "markdown",
   "metadata": {},
   "source": [
    "# **Setup**\n",
    "* https://www.youtube.com/watch?v=yZ0bV2Afkjc"
   ]
  },
  {
   "cell_type": "code",
   "execution_count": 11,
   "metadata": {
    "vscode": {
     "languageId": "r"
    }
   },
   "outputs": [
    {
     "name": "stderr",
     "output_type": "stream",
     "text": [
      "Installing package into 'C:/Users/aksha/AppData/Local/R/win-library/4.3'\n",
      "(as 'lib' is unspecified)\n",
      "\n",
      "also installing the dependencies 'rematch', 'cellranger'\n",
      "\n",
      "\n"
     ]
    },
    {
     "name": "stdout",
     "output_type": "stream",
     "text": [
      "package 'rematch' successfully unpacked and MD5 sums checked\n",
      "package 'cellranger' successfully unpacked and MD5 sums checked\n",
      "package 'readxl' successfully unpacked and MD5 sums checked\n",
      "\n",
      "The downloaded binary packages are in\n",
      "\tC:\\Users\\aksha\\AppData\\Local\\Temp\\RtmpqelEPW\\downloaded_packages\n"
     ]
    }
   ],
   "source": [
    "install.packages('readxl')\n",
    "library(readxl)"
   ]
  },
  {
   "cell_type": "markdown",
   "metadata": {},
   "source": [
    "# **Basic Operation**"
   ]
  },
  {
   "cell_type": "code",
   "execution_count": 1,
   "metadata": {
    "vscode": {
     "languageId": "r"
    }
   },
   "outputs": [
    {
     "data": {
      "text/html": [
       "12"
      ],
      "text/latex": [
       "12"
      ],
      "text/markdown": [
       "12"
      ],
      "text/plain": [
       "[1] 12"
      ]
     },
     "metadata": {},
     "output_type": "display_data"
    }
   ],
   "source": [
    "5+7"
   ]
  },
  {
   "cell_type": "code",
   "execution_count": 2,
   "metadata": {
    "vscode": {
     "languageId": "r"
    }
   },
   "outputs": [
    {
     "data": {
      "text/html": [
       "17"
      ],
      "text/latex": [
       "17"
      ],
      "text/markdown": [
       "17"
      ],
      "text/plain": [
       "[1] 17"
      ]
     },
     "metadata": {},
     "output_type": "display_data"
    }
   ],
   "source": [
    "abs(-17)"
   ]
  },
  {
   "cell_type": "code",
   "execution_count": 3,
   "metadata": {
    "vscode": {
     "languageId": "r"
    }
   },
   "outputs": [
    {
     "data": {
      "text/html": [
       "-5"
      ],
      "text/latex": [
       "-5"
      ],
      "text/markdown": [
       "-5"
      ],
      "text/plain": [
       "[1] -5"
      ]
     },
     "metadata": {},
     "output_type": "display_data"
    }
   ],
   "source": [
    "x <- -12\n",
    "x+7"
   ]
  },
  {
   "cell_type": "markdown",
   "metadata": {},
   "source": [
    "# **Vector Operations**"
   ]
  },
  {
   "cell_type": "code",
   "execution_count": 4,
   "metadata": {
    "vscode": {
     "languageId": "r"
    }
   },
   "outputs": [
    {
     "data": {
      "text/html": [
       "<style>\n",
       ".list-inline {list-style: none; margin:0; padding: 0}\n",
       ".list-inline>li {display: inline-block}\n",
       ".list-inline>li:not(:last-child)::after {content: \"\\00b7\"; padding: 0 .5ex}\n",
       "</style>\n",
       "<ol class=list-inline><li>-12</li><li>6</li><li>0</li><li>-1</li></ol>\n"
      ],
      "text/latex": [
       "\\begin{enumerate*}\n",
       "\\item -12\n",
       "\\item 6\n",
       "\\item 0\n",
       "\\item -1\n",
       "\\end{enumerate*}\n"
      ],
      "text/markdown": [
       "1. -12\n",
       "2. 6\n",
       "3. 0\n",
       "4. -1\n",
       "\n",
       "\n"
      ],
      "text/plain": [
       "[1] -12   6   0  -1"
      ]
     },
     "metadata": {},
     "output_type": "display_data"
    }
   ],
   "source": [
    "# Create Vector\n",
    "y <- c(-12,6,0,-1)\n",
    "y"
   ]
  },
  {
   "cell_type": "code",
   "execution_count": 5,
   "metadata": {
    "vscode": {
     "languageId": "r"
    }
   },
   "outputs": [
    {
     "data": {
      "text/html": [
       "<style>\n",
       ".list-inline {list-style: none; margin:0; padding: 0}\n",
       ".list-inline>li {display: inline-block}\n",
       ".list-inline>li:not(:last-child)::after {content: \"\\00b7\"; padding: 0 .5ex}\n",
       "</style>\n",
       "<ol class=list-inline><li>12</li><li>6</li><li>0</li><li>1</li></ol>\n"
      ],
      "text/latex": [
       "\\begin{enumerate*}\n",
       "\\item 12\n",
       "\\item 6\n",
       "\\item 0\n",
       "\\item 1\n",
       "\\end{enumerate*}\n"
      ],
      "text/markdown": [
       "1. 12\n",
       "2. 6\n",
       "3. 0\n",
       "4. 1\n",
       "\n",
       "\n"
      ],
      "text/plain": [
       "[1] 12  6  0  1"
      ]
     },
     "metadata": {},
     "output_type": "display_data"
    }
   ],
   "source": [
    "# Vector Operations\n",
    "abs(y)"
   ]
  },
  {
   "cell_type": "code",
   "execution_count": 6,
   "metadata": {
    "vscode": {
     "languageId": "r"
    }
   },
   "outputs": [
    {
     "data": {
      "text/html": [
       "<style>\n",
       ".list-inline {list-style: none; margin:0; padding: 0}\n",
       ".list-inline>li {display: inline-block}\n",
       ".list-inline>li:not(:last-child)::after {content: \"\\00b7\"; padding: 0 .5ex}\n",
       "</style>\n",
       "<ol class=list-inline><li>-24</li><li>12</li><li>0</li><li>-2</li></ol>\n"
      ],
      "text/latex": [
       "\\begin{enumerate*}\n",
       "\\item -24\n",
       "\\item 12\n",
       "\\item 0\n",
       "\\item -2\n",
       "\\end{enumerate*}\n"
      ],
      "text/markdown": [
       "1. -24\n",
       "2. 12\n",
       "3. 0\n",
       "4. -2\n",
       "\n",
       "\n"
      ],
      "text/plain": [
       "[1] -24  12   0  -2"
      ]
     },
     "metadata": {},
     "output_type": "display_data"
    }
   ],
   "source": [
    "2*y"
   ]
  },
  {
   "cell_type": "markdown",
   "metadata": {},
   "source": [
    "# **Scooby Doo Dataset**"
   ]
  },
  {
   "cell_type": "markdown",
   "metadata": {},
   "source": [
    "## **Import Data File**"
   ]
  },
  {
   "cell_type": "code",
   "execution_count": 7,
   "metadata": {
    "vscode": {
     "languageId": "r"
    }
   },
   "outputs": [
    {
     "name": "stderr",
     "output_type": "stream",
     "text": [
      "\u001b[1mRows: \u001b[22m\u001b[34m603\u001b[39m \u001b[1mColumns: \u001b[22m\u001b[34m75\u001b[39m\n",
      "\u001b[36m──\u001b[39m \u001b[1mColumn specification\u001b[22m \u001b[36m────────────────────────────────────────────────────────\u001b[39m\n",
      "\u001b[1mDelimiter:\u001b[22m \",\"\n",
      "\u001b[31mchr\u001b[39m  (60): series_name, network, season, title, imdb, engagement, format, mo...\n",
      "\u001b[32mdbl\u001b[39m   (5): index, run_time, monster_amount, suspects_amount, culprit_amount\n",
      "\u001b[33mlgl\u001b[39m   (9): unmask_other, caught_other, caught_not, door_gag, batman, scooby_...\n",
      "\u001b[34mdate\u001b[39m  (1): date_aired\n",
      "\n",
      "\u001b[36mℹ\u001b[39m Use `spec()` to retrieve the full column specification for this data.\n",
      "\u001b[36mℹ\u001b[39m Specify the column types or set `show_col_types = FALSE` to quiet this message.\n"
     ]
    }
   ],
   "source": [
    "# install.packages(readxl)\n",
    "library(readr)\n",
    "scooby <- read_csv(\"scoobydoo.csv\")"
   ]
  },
  {
   "cell_type": "code",
   "execution_count": 34,
   "metadata": {
    "vscode": {
     "languageId": "r"
    }
   },
   "outputs": [
    {
     "name": "stderr",
     "output_type": "stream",
     "text": [
      "Warning message in sprintf(\"Class: \", class(scooby)):\n",
      "\"one argument not used by format 'Class: '\"\n"
     ]
    },
    {
     "name": "stdout",
     "output_type": "stream",
     "text": [
      "[1] \"Class: \" \"Class: \" \"Class: \" \"Class: \"\n"
     ]
    },
    {
     "name": "stderr",
     "output_type": "stream",
     "text": [
      "Warning message in sprintf(\"Type: \", typeof(scooby)):\n",
      "\"one argument not used by format 'Type: '\"\n"
     ]
    },
    {
     "name": "stdout",
     "output_type": "stream",
     "text": [
      "[1] \"Type: \"\n"
     ]
    }
   ],
   "source": [
    "print(sprintf(\"Class: \",class(scooby)))\n",
    "print(sprintf('Type: ',typeof(scooby)))"
   ]
  },
  {
   "cell_type": "code",
   "execution_count": 26,
   "metadata": {
    "vscode": {
     "languageId": "r"
    }
   },
   "outputs": [
    {
     "data": {
      "text/plain": [
       "cols(\n",
       "  index = \u001b[32mcol_double()\u001b[39m,\n",
       "  series_name = \u001b[31mcol_character()\u001b[39m,\n",
       "  network = \u001b[31mcol_character()\u001b[39m,\n",
       "  season = \u001b[31mcol_character()\u001b[39m,\n",
       "  title = \u001b[31mcol_character()\u001b[39m,\n",
       "  imdb = \u001b[31mcol_character()\u001b[39m,\n",
       "  engagement = \u001b[31mcol_character()\u001b[39m,\n",
       "  date_aired = \u001b[34mcol_date(format = \"\")\u001b[39m,\n",
       "  run_time = \u001b[32mcol_double()\u001b[39m,\n",
       "  format = \u001b[31mcol_character()\u001b[39m,\n",
       "  monster_name = \u001b[31mcol_character()\u001b[39m,\n",
       "  monster_gender = \u001b[31mcol_character()\u001b[39m,\n",
       "  monster_type = \u001b[31mcol_character()\u001b[39m,\n",
       "  monster_subtype = \u001b[31mcol_character()\u001b[39m,\n",
       "  monster_species = \u001b[31mcol_character()\u001b[39m,\n",
       "  monster_real = \u001b[31mcol_character()\u001b[39m,\n",
       "  monster_amount = \u001b[32mcol_double()\u001b[39m,\n",
       "  caught_fred = \u001b[31mcol_character()\u001b[39m,\n",
       "  caught_daphnie = \u001b[31mcol_character()\u001b[39m,\n",
       "  caught_velma = \u001b[31mcol_character()\u001b[39m,\n",
       "  caught_shaggy = \u001b[31mcol_character()\u001b[39m,\n",
       "  caught_scooby = \u001b[31mcol_character()\u001b[39m,\n",
       "  captured_fred = \u001b[31mcol_character()\u001b[39m,\n",
       "  captured_daphnie = \u001b[31mcol_character()\u001b[39m,\n",
       "  captured_velma = \u001b[31mcol_character()\u001b[39m,\n",
       "  captured_shaggy = \u001b[31mcol_character()\u001b[39m,\n",
       "  captured_scooby = \u001b[31mcol_character()\u001b[39m,\n",
       "  unmask_fred = \u001b[31mcol_character()\u001b[39m,\n",
       "  unmask_daphnie = \u001b[31mcol_character()\u001b[39m,\n",
       "  unmask_velma = \u001b[31mcol_character()\u001b[39m,\n",
       "  unmask_shaggy = \u001b[31mcol_character()\u001b[39m,\n",
       "  unmask_scooby = \u001b[31mcol_character()\u001b[39m,\n",
       "  snack_fred = \u001b[31mcol_character()\u001b[39m,\n",
       "  snack_daphnie = \u001b[31mcol_character()\u001b[39m,\n",
       "  snack_velma = \u001b[31mcol_character()\u001b[39m,\n",
       "  snack_shaggy = \u001b[31mcol_character()\u001b[39m,\n",
       "  snack_scooby = \u001b[31mcol_character()\u001b[39m,\n",
       "  unmask_other = \u001b[33mcol_logical()\u001b[39m,\n",
       "  caught_other = \u001b[33mcol_logical()\u001b[39m,\n",
       "  caught_not = \u001b[33mcol_logical()\u001b[39m,\n",
       "  trap_work_first = \u001b[31mcol_character()\u001b[39m,\n",
       "  setting_terrain = \u001b[31mcol_character()\u001b[39m,\n",
       "  setting_country_state = \u001b[31mcol_character()\u001b[39m,\n",
       "  suspects_amount = \u001b[32mcol_double()\u001b[39m,\n",
       "  non_suspect = \u001b[31mcol_character()\u001b[39m,\n",
       "  arrested = \u001b[31mcol_character()\u001b[39m,\n",
       "  culprit_name = \u001b[31mcol_character()\u001b[39m,\n",
       "  culprit_gender = \u001b[31mcol_character()\u001b[39m,\n",
       "  culprit_amount = \u001b[32mcol_double()\u001b[39m,\n",
       "  motive = \u001b[31mcol_character()\u001b[39m,\n",
       "  if_it_wasnt_for = \u001b[31mcol_character()\u001b[39m,\n",
       "  and_that = \u001b[31mcol_character()\u001b[39m,\n",
       "  door_gag = \u001b[33mcol_logical()\u001b[39m,\n",
       "  number_of_snacks = \u001b[31mcol_character()\u001b[39m,\n",
       "  split_up = \u001b[31mcol_character()\u001b[39m,\n",
       "  another_mystery = \u001b[31mcol_character()\u001b[39m,\n",
       "  set_a_trap = \u001b[31mcol_character()\u001b[39m,\n",
       "  jeepers = \u001b[31mcol_character()\u001b[39m,\n",
       "  jinkies = \u001b[31mcol_character()\u001b[39m,\n",
       "  my_glasses = \u001b[31mcol_character()\u001b[39m,\n",
       "  just_about_wrapped_up = \u001b[31mcol_character()\u001b[39m,\n",
       "  zoinks = \u001b[31mcol_character()\u001b[39m,\n",
       "  groovy = \u001b[31mcol_character()\u001b[39m,\n",
       "  scooby_doo_where_are_you = \u001b[31mcol_character()\u001b[39m,\n",
       "  rooby_rooby_roo = \u001b[31mcol_character()\u001b[39m,\n",
       "  batman = \u001b[33mcol_logical()\u001b[39m,\n",
       "  scooby_dum = \u001b[33mcol_logical()\u001b[39m,\n",
       "  scrappy_doo = \u001b[33mcol_logical()\u001b[39m,\n",
       "  hex_girls = \u001b[33mcol_logical()\u001b[39m,\n",
       "  blue_falcon = \u001b[33mcol_logical()\u001b[39m,\n",
       "  fred_va = \u001b[31mcol_character()\u001b[39m,\n",
       "  daphnie_va = \u001b[31mcol_character()\u001b[39m,\n",
       "  velma_va = \u001b[31mcol_character()\u001b[39m,\n",
       "  shaggy_va = \u001b[31mcol_character()\u001b[39m,\n",
       "  scooby_va = \u001b[31mcol_character()\u001b[39m\n",
       ")"
      ]
     },
     "metadata": {},
     "output_type": "display_data"
    }
   ],
   "source": [
    "spec(scooby)"
   ]
  },
  {
   "cell_type": "markdown",
   "metadata": {},
   "source": [
    "## **Shape**"
   ]
  },
  {
   "cell_type": "code",
   "execution_count": 47,
   "metadata": {
    "vscode": {
     "languageId": "r"
    }
   },
   "outputs": [
    {
     "data": {
      "text/html": [
       "<style>\n",
       ".list-inline {list-style: none; margin:0; padding: 0}\n",
       ".list-inline>li {display: inline-block}\n",
       ".list-inline>li:not(:last-child)::after {content: \"\\00b7\"; padding: 0 .5ex}\n",
       "</style>\n",
       "<ol class=list-inline><li>603</li><li>75</li></ol>\n"
      ],
      "text/latex": [
       "\\begin{enumerate*}\n",
       "\\item 603\n",
       "\\item 75\n",
       "\\end{enumerate*}\n"
      ],
      "text/markdown": [
       "1. 603\n",
       "2. 75\n",
       "\n",
       "\n"
      ],
      "text/plain": [
       "[1] 603  75"
      ]
     },
     "metadata": {},
     "output_type": "display_data"
    }
   ],
   "source": [
    "dim(scooby)"
   ]
  },
  {
   "cell_type": "markdown",
   "metadata": {},
   "source": [
    "## **Column Names**"
   ]
  },
  {
   "cell_type": "code",
   "execution_count": 55,
   "metadata": {
    "vscode": {
     "languageId": "r"
    }
   },
   "outputs": [
    {
     "data": {
      "text/html": [
       "<style>\n",
       ".list-inline {list-style: none; margin:0; padding: 0}\n",
       ".list-inline>li {display: inline-block}\n",
       ".list-inline>li:not(:last-child)::after {content: \"\\00b7\"; padding: 0 .5ex}\n",
       "</style>\n",
       "<ol class=list-inline><li>'index'</li><li>'series_name'</li><li>'network'</li><li>'season'</li><li>'title'</li><li>'imdb'</li><li>'engagement'</li><li>'date_aired'</li><li>'run_time'</li><li>'format'</li><li>'monster_name'</li><li>'monster_gender'</li><li>'monster_type'</li><li>'monster_subtype'</li><li>'monster_species'</li><li>'monster_real'</li><li>'monster_amount'</li><li>'caught_fred'</li><li>'caught_daphnie'</li><li>'caught_velma'</li><li>'caught_shaggy'</li><li>'caught_scooby'</li><li>'captured_fred'</li><li>'captured_daphnie'</li><li>'captured_velma'</li><li>'captured_shaggy'</li><li>'captured_scooby'</li><li>'unmask_fred'</li><li>'unmask_daphnie'</li><li>'unmask_velma'</li><li>'unmask_shaggy'</li><li>'unmask_scooby'</li><li>'snack_fred'</li><li>'snack_daphnie'</li><li>'snack_velma'</li><li>'snack_shaggy'</li><li>'snack_scooby'</li><li>'unmask_other'</li><li>'caught_other'</li><li>'caught_not'</li><li>'trap_work_first'</li><li>'setting_terrain'</li><li>'setting_country_state'</li><li>'suspects_amount'</li><li>'non_suspect'</li><li>'arrested'</li><li>'culprit_name'</li><li>'culprit_gender'</li><li>'culprit_amount'</li><li>'motive'</li><li>'if_it_wasnt_for'</li><li>'and_that'</li><li>'door_gag'</li><li>'number_of_snacks'</li><li>'split_up'</li><li>'another_mystery'</li><li>'set_a_trap'</li><li>'jeepers'</li><li>'jinkies'</li><li>'my_glasses'</li><li>'just_about_wrapped_up'</li><li>'zoinks'</li><li>'groovy'</li><li>'scooby_doo_where_are_you'</li><li>'rooby_rooby_roo'</li><li>'batman'</li><li>'scooby_dum'</li><li>'scrappy_doo'</li><li>'hex_girls'</li><li>'blue_falcon'</li><li>'fred_va'</li><li>'daphnie_va'</li><li>'velma_va'</li><li>'shaggy_va'</li><li>'scooby_va'</li></ol>\n"
      ],
      "text/latex": [
       "\\begin{enumerate*}\n",
       "\\item 'index'\n",
       "\\item 'series\\_name'\n",
       "\\item 'network'\n",
       "\\item 'season'\n",
       "\\item 'title'\n",
       "\\item 'imdb'\n",
       "\\item 'engagement'\n",
       "\\item 'date\\_aired'\n",
       "\\item 'run\\_time'\n",
       "\\item 'format'\n",
       "\\item 'monster\\_name'\n",
       "\\item 'monster\\_gender'\n",
       "\\item 'monster\\_type'\n",
       "\\item 'monster\\_subtype'\n",
       "\\item 'monster\\_species'\n",
       "\\item 'monster\\_real'\n",
       "\\item 'monster\\_amount'\n",
       "\\item 'caught\\_fred'\n",
       "\\item 'caught\\_daphnie'\n",
       "\\item 'caught\\_velma'\n",
       "\\item 'caught\\_shaggy'\n",
       "\\item 'caught\\_scooby'\n",
       "\\item 'captured\\_fred'\n",
       "\\item 'captured\\_daphnie'\n",
       "\\item 'captured\\_velma'\n",
       "\\item 'captured\\_shaggy'\n",
       "\\item 'captured\\_scooby'\n",
       "\\item 'unmask\\_fred'\n",
       "\\item 'unmask\\_daphnie'\n",
       "\\item 'unmask\\_velma'\n",
       "\\item 'unmask\\_shaggy'\n",
       "\\item 'unmask\\_scooby'\n",
       "\\item 'snack\\_fred'\n",
       "\\item 'snack\\_daphnie'\n",
       "\\item 'snack\\_velma'\n",
       "\\item 'snack\\_shaggy'\n",
       "\\item 'snack\\_scooby'\n",
       "\\item 'unmask\\_other'\n",
       "\\item 'caught\\_other'\n",
       "\\item 'caught\\_not'\n",
       "\\item 'trap\\_work\\_first'\n",
       "\\item 'setting\\_terrain'\n",
       "\\item 'setting\\_country\\_state'\n",
       "\\item 'suspects\\_amount'\n",
       "\\item 'non\\_suspect'\n",
       "\\item 'arrested'\n",
       "\\item 'culprit\\_name'\n",
       "\\item 'culprit\\_gender'\n",
       "\\item 'culprit\\_amount'\n",
       "\\item 'motive'\n",
       "\\item 'if\\_it\\_wasnt\\_for'\n",
       "\\item 'and\\_that'\n",
       "\\item 'door\\_gag'\n",
       "\\item 'number\\_of\\_snacks'\n",
       "\\item 'split\\_up'\n",
       "\\item 'another\\_mystery'\n",
       "\\item 'set\\_a\\_trap'\n",
       "\\item 'jeepers'\n",
       "\\item 'jinkies'\n",
       "\\item 'my\\_glasses'\n",
       "\\item 'just\\_about\\_wrapped\\_up'\n",
       "\\item 'zoinks'\n",
       "\\item 'groovy'\n",
       "\\item 'scooby\\_doo\\_where\\_are\\_you'\n",
       "\\item 'rooby\\_rooby\\_roo'\n",
       "\\item 'batman'\n",
       "\\item 'scooby\\_dum'\n",
       "\\item 'scrappy\\_doo'\n",
       "\\item 'hex\\_girls'\n",
       "\\item 'blue\\_falcon'\n",
       "\\item 'fred\\_va'\n",
       "\\item 'daphnie\\_va'\n",
       "\\item 'velma\\_va'\n",
       "\\item 'shaggy\\_va'\n",
       "\\item 'scooby\\_va'\n",
       "\\end{enumerate*}\n"
      ],
      "text/markdown": [
       "1. 'index'\n",
       "2. 'series_name'\n",
       "3. 'network'\n",
       "4. 'season'\n",
       "5. 'title'\n",
       "6. 'imdb'\n",
       "7. 'engagement'\n",
       "8. 'date_aired'\n",
       "9. 'run_time'\n",
       "10. 'format'\n",
       "11. 'monster_name'\n",
       "12. 'monster_gender'\n",
       "13. 'monster_type'\n",
       "14. 'monster_subtype'\n",
       "15. 'monster_species'\n",
       "16. 'monster_real'\n",
       "17. 'monster_amount'\n",
       "18. 'caught_fred'\n",
       "19. 'caught_daphnie'\n",
       "20. 'caught_velma'\n",
       "21. 'caught_shaggy'\n",
       "22. 'caught_scooby'\n",
       "23. 'captured_fred'\n",
       "24. 'captured_daphnie'\n",
       "25. 'captured_velma'\n",
       "26. 'captured_shaggy'\n",
       "27. 'captured_scooby'\n",
       "28. 'unmask_fred'\n",
       "29. 'unmask_daphnie'\n",
       "30. 'unmask_velma'\n",
       "31. 'unmask_shaggy'\n",
       "32. 'unmask_scooby'\n",
       "33. 'snack_fred'\n",
       "34. 'snack_daphnie'\n",
       "35. 'snack_velma'\n",
       "36. 'snack_shaggy'\n",
       "37. 'snack_scooby'\n",
       "38. 'unmask_other'\n",
       "39. 'caught_other'\n",
       "40. 'caught_not'\n",
       "41. 'trap_work_first'\n",
       "42. 'setting_terrain'\n",
       "43. 'setting_country_state'\n",
       "44. 'suspects_amount'\n",
       "45. 'non_suspect'\n",
       "46. 'arrested'\n",
       "47. 'culprit_name'\n",
       "48. 'culprit_gender'\n",
       "49. 'culprit_amount'\n",
       "50. 'motive'\n",
       "51. 'if_it_wasnt_for'\n",
       "52. 'and_that'\n",
       "53. 'door_gag'\n",
       "54. 'number_of_snacks'\n",
       "55. 'split_up'\n",
       "56. 'another_mystery'\n",
       "57. 'set_a_trap'\n",
       "58. 'jeepers'\n",
       "59. 'jinkies'\n",
       "60. 'my_glasses'\n",
       "61. 'just_about_wrapped_up'\n",
       "62. 'zoinks'\n",
       "63. 'groovy'\n",
       "64. 'scooby_doo_where_are_you'\n",
       "65. 'rooby_rooby_roo'\n",
       "66. 'batman'\n",
       "67. 'scooby_dum'\n",
       "68. 'scrappy_doo'\n",
       "69. 'hex_girls'\n",
       "70. 'blue_falcon'\n",
       "71. 'fred_va'\n",
       "72. 'daphnie_va'\n",
       "73. 'velma_va'\n",
       "74. 'shaggy_va'\n",
       "75. 'scooby_va'\n",
       "\n",
       "\n"
      ],
      "text/plain": [
       " [1] \"index\"                    \"series_name\"             \n",
       " [3] \"network\"                  \"season\"                  \n",
       " [5] \"title\"                    \"imdb\"                    \n",
       " [7] \"engagement\"               \"date_aired\"              \n",
       " [9] \"run_time\"                 \"format\"                  \n",
       "[11] \"monster_name\"             \"monster_gender\"          \n",
       "[13] \"monster_type\"             \"monster_subtype\"         \n",
       "[15] \"monster_species\"          \"monster_real\"            \n",
       "[17] \"monster_amount\"           \"caught_fred\"             \n",
       "[19] \"caught_daphnie\"           \"caught_velma\"            \n",
       "[21] \"caught_shaggy\"            \"caught_scooby\"           \n",
       "[23] \"captured_fred\"            \"captured_daphnie\"        \n",
       "[25] \"captured_velma\"           \"captured_shaggy\"         \n",
       "[27] \"captured_scooby\"          \"unmask_fred\"             \n",
       "[29] \"unmask_daphnie\"           \"unmask_velma\"            \n",
       "[31] \"unmask_shaggy\"            \"unmask_scooby\"           \n",
       "[33] \"snack_fred\"               \"snack_daphnie\"           \n",
       "[35] \"snack_velma\"              \"snack_shaggy\"            \n",
       "[37] \"snack_scooby\"             \"unmask_other\"            \n",
       "[39] \"caught_other\"             \"caught_not\"              \n",
       "[41] \"trap_work_first\"          \"setting_terrain\"         \n",
       "[43] \"setting_country_state\"    \"suspects_amount\"         \n",
       "[45] \"non_suspect\"              \"arrested\"                \n",
       "[47] \"culprit_name\"             \"culprit_gender\"          \n",
       "[49] \"culprit_amount\"           \"motive\"                  \n",
       "[51] \"if_it_wasnt_for\"          \"and_that\"                \n",
       "[53] \"door_gag\"                 \"number_of_snacks\"        \n",
       "[55] \"split_up\"                 \"another_mystery\"         \n",
       "[57] \"set_a_trap\"               \"jeepers\"                 \n",
       "[59] \"jinkies\"                  \"my_glasses\"              \n",
       "[61] \"just_about_wrapped_up\"    \"zoinks\"                  \n",
       "[63] \"groovy\"                   \"scooby_doo_where_are_you\"\n",
       "[65] \"rooby_rooby_roo\"          \"batman\"                  \n",
       "[67] \"scooby_dum\"               \"scrappy_doo\"             \n",
       "[69] \"hex_girls\"                \"blue_falcon\"             \n",
       "[71] \"fred_va\"                  \"daphnie_va\"              \n",
       "[73] \"velma_va\"                 \"shaggy_va\"               \n",
       "[75] \"scooby_va\"               "
      ]
     },
     "metadata": {},
     "output_type": "display_data"
    }
   ],
   "source": [
    "names(scooby)"
   ]
  },
  {
   "cell_type": "markdown",
   "metadata": {},
   "source": [
    "## **Head & Tail**"
   ]
  },
  {
   "cell_type": "code",
   "execution_count": 8,
   "metadata": {
    "vscode": {
     "languageId": "r"
    }
   },
   "outputs": [
    {
     "data": {
      "text/html": [
       "<table class=\"dataframe\">\n",
       "<caption>A tibble: 6 × 75</caption>\n",
       "<thead>\n",
       "\t<tr><th scope=col>index</th><th scope=col>series_name</th><th scope=col>network</th><th scope=col>season</th><th scope=col>title</th><th scope=col>imdb</th><th scope=col>engagement</th><th scope=col>date_aired</th><th scope=col>run_time</th><th scope=col>format</th><th scope=col>⋯</th><th scope=col>batman</th><th scope=col>scooby_dum</th><th scope=col>scrappy_doo</th><th scope=col>hex_girls</th><th scope=col>blue_falcon</th><th scope=col>fred_va</th><th scope=col>daphnie_va</th><th scope=col>velma_va</th><th scope=col>shaggy_va</th><th scope=col>scooby_va</th></tr>\n",
       "\t<tr><th scope=col>&lt;dbl&gt;</th><th scope=col>&lt;chr&gt;</th><th scope=col>&lt;chr&gt;</th><th scope=col>&lt;chr&gt;</th><th scope=col>&lt;chr&gt;</th><th scope=col>&lt;chr&gt;</th><th scope=col>&lt;chr&gt;</th><th scope=col>&lt;date&gt;</th><th scope=col>&lt;dbl&gt;</th><th scope=col>&lt;chr&gt;</th><th scope=col>⋯</th><th scope=col>&lt;lgl&gt;</th><th scope=col>&lt;lgl&gt;</th><th scope=col>&lt;lgl&gt;</th><th scope=col>&lt;lgl&gt;</th><th scope=col>&lt;lgl&gt;</th><th scope=col>&lt;chr&gt;</th><th scope=col>&lt;chr&gt;</th><th scope=col>&lt;chr&gt;</th><th scope=col>&lt;chr&gt;</th><th scope=col>&lt;chr&gt;</th></tr>\n",
       "</thead>\n",
       "<tbody>\n",
       "\t<tr><td>1</td><td>Scooby Doo, Where Are You!</td><td>CBS</td><td>1</td><td>What a Night for a Knight</td><td>8.1</td><td>556</td><td>1969-09-13</td><td>21</td><td>TV Series</td><td>⋯</td><td>FALSE</td><td>FALSE</td><td>FALSE</td><td>FALSE</td><td>FALSE</td><td>Frank Welker</td><td>Stefanianna Christopherson</td><td>Nicole Jaffe</td><td>Casey Kasem</td><td>Don Messick</td></tr>\n",
       "\t<tr><td>2</td><td>Scooby Doo, Where Are You!</td><td>CBS</td><td>1</td><td>A Clue for Scooby Doo    </td><td>8.1</td><td>479</td><td>1969-09-20</td><td>22</td><td>TV Series</td><td>⋯</td><td>FALSE</td><td>FALSE</td><td>FALSE</td><td>FALSE</td><td>FALSE</td><td>Frank Welker</td><td>Stefanianna Christopherson</td><td>Nicole Jaffe</td><td>Casey Kasem</td><td>Don Messick</td></tr>\n",
       "\t<tr><td>3</td><td>Scooby Doo, Where Are You!</td><td>CBS</td><td>1</td><td>Hassle in the Castle     </td><td>8  </td><td>455</td><td>1969-09-27</td><td>21</td><td>TV Series</td><td>⋯</td><td>FALSE</td><td>FALSE</td><td>FALSE</td><td>FALSE</td><td>FALSE</td><td>Frank Welker</td><td>Stefanianna Christopherson</td><td>Nicole Jaffe</td><td>Casey Kasem</td><td>Don Messick</td></tr>\n",
       "\t<tr><td>4</td><td>Scooby Doo, Where Are You!</td><td>CBS</td><td>1</td><td>Mine Your Own Business   </td><td>7.8</td><td>426</td><td>1969-10-04</td><td>21</td><td>TV Series</td><td>⋯</td><td>FALSE</td><td>FALSE</td><td>FALSE</td><td>FALSE</td><td>FALSE</td><td>Frank Welker</td><td>Stefanianna Christopherson</td><td>Nicole Jaffe</td><td>Casey Kasem</td><td>Don Messick</td></tr>\n",
       "\t<tr><td>5</td><td>Scooby Doo, Where Are You!</td><td>CBS</td><td>1</td><td>Decoy for a Dognapper    </td><td>7.5</td><td>391</td><td>1969-10-11</td><td>21</td><td>TV Series</td><td>⋯</td><td>FALSE</td><td>FALSE</td><td>FALSE</td><td>FALSE</td><td>FALSE</td><td>Frank Welker</td><td>Stefanianna Christopherson</td><td>Nicole Jaffe</td><td>Casey Kasem</td><td>Don Messick</td></tr>\n",
       "\t<tr><td>6</td><td>Scooby Doo, Where Are You!</td><td>CBS</td><td>1</td><td>What the Hex Going On?   </td><td>8.4</td><td>384</td><td>1969-10-18</td><td>21</td><td>TV Series</td><td>⋯</td><td>FALSE</td><td>FALSE</td><td>FALSE</td><td>FALSE</td><td>FALSE</td><td>Frank Welker</td><td>Stefanianna Christopherson</td><td>Nicole Jaffe</td><td>Casey Kasem</td><td>Don Messick</td></tr>\n",
       "</tbody>\n",
       "</table>\n"
      ],
      "text/latex": [
       "A tibble: 6 × 75\n",
       "\\begin{tabular}{lllllllllllllllllllll}\n",
       " index & series\\_name & network & season & title & imdb & engagement & date\\_aired & run\\_time & format & ⋯ & batman & scooby\\_dum & scrappy\\_doo & hex\\_girls & blue\\_falcon & fred\\_va & daphnie\\_va & velma\\_va & shaggy\\_va & scooby\\_va\\\\\n",
       " <dbl> & <chr> & <chr> & <chr> & <chr> & <chr> & <chr> & <date> & <dbl> & <chr> & ⋯ & <lgl> & <lgl> & <lgl> & <lgl> & <lgl> & <chr> & <chr> & <chr> & <chr> & <chr>\\\\\n",
       "\\hline\n",
       "\t 1 & Scooby Doo, Where Are You! & CBS & 1 & What a Night for a Knight & 8.1 & 556 & 1969-09-13 & 21 & TV Series & ⋯ & FALSE & FALSE & FALSE & FALSE & FALSE & Frank Welker & Stefanianna Christopherson & Nicole Jaffe & Casey Kasem & Don Messick\\\\\n",
       "\t 2 & Scooby Doo, Where Are You! & CBS & 1 & A Clue for Scooby Doo     & 8.1 & 479 & 1969-09-20 & 22 & TV Series & ⋯ & FALSE & FALSE & FALSE & FALSE & FALSE & Frank Welker & Stefanianna Christopherson & Nicole Jaffe & Casey Kasem & Don Messick\\\\\n",
       "\t 3 & Scooby Doo, Where Are You! & CBS & 1 & Hassle in the Castle      & 8   & 455 & 1969-09-27 & 21 & TV Series & ⋯ & FALSE & FALSE & FALSE & FALSE & FALSE & Frank Welker & Stefanianna Christopherson & Nicole Jaffe & Casey Kasem & Don Messick\\\\\n",
       "\t 4 & Scooby Doo, Where Are You! & CBS & 1 & Mine Your Own Business    & 7.8 & 426 & 1969-10-04 & 21 & TV Series & ⋯ & FALSE & FALSE & FALSE & FALSE & FALSE & Frank Welker & Stefanianna Christopherson & Nicole Jaffe & Casey Kasem & Don Messick\\\\\n",
       "\t 5 & Scooby Doo, Where Are You! & CBS & 1 & Decoy for a Dognapper     & 7.5 & 391 & 1969-10-11 & 21 & TV Series & ⋯ & FALSE & FALSE & FALSE & FALSE & FALSE & Frank Welker & Stefanianna Christopherson & Nicole Jaffe & Casey Kasem & Don Messick\\\\\n",
       "\t 6 & Scooby Doo, Where Are You! & CBS & 1 & What the Hex Going On?    & 8.4 & 384 & 1969-10-18 & 21 & TV Series & ⋯ & FALSE & FALSE & FALSE & FALSE & FALSE & Frank Welker & Stefanianna Christopherson & Nicole Jaffe & Casey Kasem & Don Messick\\\\\n",
       "\\end{tabular}\n"
      ],
      "text/markdown": [
       "\n",
       "A tibble: 6 × 75\n",
       "\n",
       "| index &lt;dbl&gt; | series_name &lt;chr&gt; | network &lt;chr&gt; | season &lt;chr&gt; | title &lt;chr&gt; | imdb &lt;chr&gt; | engagement &lt;chr&gt; | date_aired &lt;date&gt; | run_time &lt;dbl&gt; | format &lt;chr&gt; | ⋯ ⋯ | batman &lt;lgl&gt; | scooby_dum &lt;lgl&gt; | scrappy_doo &lt;lgl&gt; | hex_girls &lt;lgl&gt; | blue_falcon &lt;lgl&gt; | fred_va &lt;chr&gt; | daphnie_va &lt;chr&gt; | velma_va &lt;chr&gt; | shaggy_va &lt;chr&gt; | scooby_va &lt;chr&gt; |\n",
       "|---|---|---|---|---|---|---|---|---|---|---|---|---|---|---|---|---|---|---|---|---|\n",
       "| 1 | Scooby Doo, Where Are You! | CBS | 1 | What a Night for a Knight | 8.1 | 556 | 1969-09-13 | 21 | TV Series | ⋯ | FALSE | FALSE | FALSE | FALSE | FALSE | Frank Welker | Stefanianna Christopherson | Nicole Jaffe | Casey Kasem | Don Messick |\n",
       "| 2 | Scooby Doo, Where Are You! | CBS | 1 | A Clue for Scooby Doo     | 8.1 | 479 | 1969-09-20 | 22 | TV Series | ⋯ | FALSE | FALSE | FALSE | FALSE | FALSE | Frank Welker | Stefanianna Christopherson | Nicole Jaffe | Casey Kasem | Don Messick |\n",
       "| 3 | Scooby Doo, Where Are You! | CBS | 1 | Hassle in the Castle      | 8   | 455 | 1969-09-27 | 21 | TV Series | ⋯ | FALSE | FALSE | FALSE | FALSE | FALSE | Frank Welker | Stefanianna Christopherson | Nicole Jaffe | Casey Kasem | Don Messick |\n",
       "| 4 | Scooby Doo, Where Are You! | CBS | 1 | Mine Your Own Business    | 7.8 | 426 | 1969-10-04 | 21 | TV Series | ⋯ | FALSE | FALSE | FALSE | FALSE | FALSE | Frank Welker | Stefanianna Christopherson | Nicole Jaffe | Casey Kasem | Don Messick |\n",
       "| 5 | Scooby Doo, Where Are You! | CBS | 1 | Decoy for a Dognapper     | 7.5 | 391 | 1969-10-11 | 21 | TV Series | ⋯ | FALSE | FALSE | FALSE | FALSE | FALSE | Frank Welker | Stefanianna Christopherson | Nicole Jaffe | Casey Kasem | Don Messick |\n",
       "| 6 | Scooby Doo, Where Are You! | CBS | 1 | What the Hex Going On?    | 8.4 | 384 | 1969-10-18 | 21 | TV Series | ⋯ | FALSE | FALSE | FALSE | FALSE | FALSE | Frank Welker | Stefanianna Christopherson | Nicole Jaffe | Casey Kasem | Don Messick |\n",
       "\n"
      ],
      "text/plain": [
       "  index series_name                network season title                    \n",
       "1 1     Scooby Doo, Where Are You! CBS     1      What a Night for a Knight\n",
       "2 2     Scooby Doo, Where Are You! CBS     1      A Clue for Scooby Doo    \n",
       "3 3     Scooby Doo, Where Are You! CBS     1      Hassle in the Castle     \n",
       "4 4     Scooby Doo, Where Are You! CBS     1      Mine Your Own Business   \n",
       "5 5     Scooby Doo, Where Are You! CBS     1      Decoy for a Dognapper    \n",
       "6 6     Scooby Doo, Where Are You! CBS     1      What the Hex Going On?   \n",
       "  imdb engagement date_aired run_time format    ⋯ batman scooby_dum scrappy_doo\n",
       "1 8.1  556        1969-09-13 21       TV Series ⋯ FALSE  FALSE      FALSE      \n",
       "2 8.1  479        1969-09-20 22       TV Series ⋯ FALSE  FALSE      FALSE      \n",
       "3 8    455        1969-09-27 21       TV Series ⋯ FALSE  FALSE      FALSE      \n",
       "4 7.8  426        1969-10-04 21       TV Series ⋯ FALSE  FALSE      FALSE      \n",
       "5 7.5  391        1969-10-11 21       TV Series ⋯ FALSE  FALSE      FALSE      \n",
       "6 8.4  384        1969-10-18 21       TV Series ⋯ FALSE  FALSE      FALSE      \n",
       "  hex_girls blue_falcon fred_va      daphnie_va                 velma_va    \n",
       "1 FALSE     FALSE       Frank Welker Stefanianna Christopherson Nicole Jaffe\n",
       "2 FALSE     FALSE       Frank Welker Stefanianna Christopherson Nicole Jaffe\n",
       "3 FALSE     FALSE       Frank Welker Stefanianna Christopherson Nicole Jaffe\n",
       "4 FALSE     FALSE       Frank Welker Stefanianna Christopherson Nicole Jaffe\n",
       "5 FALSE     FALSE       Frank Welker Stefanianna Christopherson Nicole Jaffe\n",
       "6 FALSE     FALSE       Frank Welker Stefanianna Christopherson Nicole Jaffe\n",
       "  shaggy_va   scooby_va  \n",
       "1 Casey Kasem Don Messick\n",
       "2 Casey Kasem Don Messick\n",
       "3 Casey Kasem Don Messick\n",
       "4 Casey Kasem Don Messick\n",
       "5 Casey Kasem Don Messick\n",
       "6 Casey Kasem Don Messick"
      ]
     },
     "metadata": {},
     "output_type": "display_data"
    }
   ],
   "source": [
    "head(scooby)"
   ]
  },
  {
   "cell_type": "code",
   "execution_count": 9,
   "metadata": {
    "vscode": {
     "languageId": "r"
    }
   },
   "outputs": [
    {
     "data": {
      "text/html": [
       "<table class=\"dataframe\">\n",
       "<caption>A tibble: 6 × 75</caption>\n",
       "<thead>\n",
       "\t<tr><th scope=col>index</th><th scope=col>series_name</th><th scope=col>network</th><th scope=col>season</th><th scope=col>title</th><th scope=col>imdb</th><th scope=col>engagement</th><th scope=col>date_aired</th><th scope=col>run_time</th><th scope=col>format</th><th scope=col>⋯</th><th scope=col>batman</th><th scope=col>scooby_dum</th><th scope=col>scrappy_doo</th><th scope=col>hex_girls</th><th scope=col>blue_falcon</th><th scope=col>fred_va</th><th scope=col>daphnie_va</th><th scope=col>velma_va</th><th scope=col>shaggy_va</th><th scope=col>scooby_va</th></tr>\n",
       "\t<tr><th scope=col>&lt;dbl&gt;</th><th scope=col>&lt;chr&gt;</th><th scope=col>&lt;chr&gt;</th><th scope=col>&lt;chr&gt;</th><th scope=col>&lt;chr&gt;</th><th scope=col>&lt;chr&gt;</th><th scope=col>&lt;chr&gt;</th><th scope=col>&lt;date&gt;</th><th scope=col>&lt;dbl&gt;</th><th scope=col>&lt;chr&gt;</th><th scope=col>⋯</th><th scope=col>&lt;lgl&gt;</th><th scope=col>&lt;lgl&gt;</th><th scope=col>&lt;lgl&gt;</th><th scope=col>&lt;lgl&gt;</th><th scope=col>&lt;lgl&gt;</th><th scope=col>&lt;chr&gt;</th><th scope=col>&lt;chr&gt;</th><th scope=col>&lt;chr&gt;</th><th scope=col>&lt;chr&gt;</th><th scope=col>&lt;chr&gt;</th></tr>\n",
       "</thead>\n",
       "<tbody>\n",
       "\t<tr><td>598</td><td>Scooby-Doo and Guess Who?</td><td>Boomerang        </td><td>2    </td><td>The 7th Inning Scare!               </td><td>NULL</td><td>NULL</td><td>2020-10-01</td><td>22</td><td>TV Series</td><td>⋯</td><td>FALSE</td><td>FALSE</td><td>FALSE</td><td>FALSE</td><td>FALSE</td><td>Frank Welker</td><td>Grey DeLisle</td><td>Kate Micucci</td><td>Matthew Lillard</td><td>Frank Welker</td></tr>\n",
       "\t<tr><td>599</td><td>Scooby-Doo and Guess Who?</td><td><span style=white-space:pre-wrap>Boomerang        </span></td><td><span style=white-space:pre-wrap>2    </span></td><td>The Dreaded Remake of Jekyll &amp; Hyde!</td><td>NULL</td><td>NULL</td><td>2020-10-01</td><td>22</td><td>TV Series</td><td>⋯</td><td>FALSE</td><td>FALSE</td><td>FALSE</td><td>FALSE</td><td>FALSE</td><td>Frank Welker</td><td>Grey DeLisle</td><td>Kate Micucci</td><td>Matthew Lillard</td><td>Frank Welker</td></tr>\n",
       "\t<tr><td>600</td><td>Warner Home Video        </td><td>Warner Home Video</td><td>Movie</td><td>Happy Halloween, Scooby-Doo!        </td><td>6.3 </td><td>978 </td><td>2020-10-06</td><td>76</td><td>Movie    </td><td>⋯</td><td>FALSE</td><td>FALSE</td><td>FALSE</td><td>FALSE</td><td>FALSE</td><td>Frank Welker</td><td>Grey DeLisle</td><td>Kate Micucci</td><td>Matthew Lillard</td><td>Frank Welker</td></tr>\n",
       "\t<tr><td>601</td><td>Warner Home Video        </td><td>Warner Home Video</td><td>Movie</td><td>Scooby-Doo! The Sword and the Scoob </td><td>6.2 </td><td>422 </td><td>2020-02-23</td><td>77</td><td>Movie    </td><td>⋯</td><td>FALSE</td><td>FALSE</td><td>FALSE</td><td>FALSE</td><td>FALSE</td><td>Frank Welker</td><td>Grey DeLisle</td><td>Kate Micucci</td><td>Matthew Lillard</td><td>Frank Welker</td></tr>\n",
       "\t<tr><td>602</td><td>Scooby-Doo and Guess Who?</td><td>Boomerang        </td><td>2    </td><td>Dark Diner of Route 66!             </td><td>NULL</td><td>NULL</td><td>2021-02-25</td><td>22</td><td>TV Series</td><td>⋯</td><td>FALSE</td><td>FALSE</td><td>FALSE</td><td>FALSE</td><td>FALSE</td><td>Frank Welker</td><td>Grey DeLisle</td><td>Kate Micucci</td><td>Matthew Lillard</td><td>Frank Welker</td></tr>\n",
       "\t<tr><td>603</td><td>Scooby-Doo and Guess Who?</td><td>Boomerang        </td><td>2    </td><td>Total Jeopardy!                     </td><td>NULL</td><td>NULL</td><td>2020-11-13</td><td>23</td><td>TV Series</td><td>⋯</td><td>FALSE</td><td>FALSE</td><td>FALSE</td><td>FALSE</td><td>FALSE</td><td>Frank Welker</td><td>Grey DeLisle</td><td>Kate Micucci</td><td>Matthew Lillard</td><td>Frank Welker</td></tr>\n",
       "</tbody>\n",
       "</table>\n"
      ],
      "text/latex": [
       "A tibble: 6 × 75\n",
       "\\begin{tabular}{lllllllllllllllllllll}\n",
       " index & series\\_name & network & season & title & imdb & engagement & date\\_aired & run\\_time & format & ⋯ & batman & scooby\\_dum & scrappy\\_doo & hex\\_girls & blue\\_falcon & fred\\_va & daphnie\\_va & velma\\_va & shaggy\\_va & scooby\\_va\\\\\n",
       " <dbl> & <chr> & <chr> & <chr> & <chr> & <chr> & <chr> & <date> & <dbl> & <chr> & ⋯ & <lgl> & <lgl> & <lgl> & <lgl> & <lgl> & <chr> & <chr> & <chr> & <chr> & <chr>\\\\\n",
       "\\hline\n",
       "\t 598 & Scooby-Doo and Guess Who? & Boomerang         & 2     & The 7th Inning Scare!                & NULL & NULL & 2020-10-01 & 22 & TV Series & ⋯ & FALSE & FALSE & FALSE & FALSE & FALSE & Frank Welker & Grey DeLisle & Kate Micucci & Matthew Lillard & Frank Welker\\\\\n",
       "\t 599 & Scooby-Doo and Guess Who? & Boomerang         & 2     & The Dreaded Remake of Jekyll \\& Hyde! & NULL & NULL & 2020-10-01 & 22 & TV Series & ⋯ & FALSE & FALSE & FALSE & FALSE & FALSE & Frank Welker & Grey DeLisle & Kate Micucci & Matthew Lillard & Frank Welker\\\\\n",
       "\t 600 & Warner Home Video         & Warner Home Video & Movie & Happy Halloween, Scooby-Doo!         & 6.3  & 978  & 2020-10-06 & 76 & Movie     & ⋯ & FALSE & FALSE & FALSE & FALSE & FALSE & Frank Welker & Grey DeLisle & Kate Micucci & Matthew Lillard & Frank Welker\\\\\n",
       "\t 601 & Warner Home Video         & Warner Home Video & Movie & Scooby-Doo! The Sword and the Scoob  & 6.2  & 422  & 2020-02-23 & 77 & Movie     & ⋯ & FALSE & FALSE & FALSE & FALSE & FALSE & Frank Welker & Grey DeLisle & Kate Micucci & Matthew Lillard & Frank Welker\\\\\n",
       "\t 602 & Scooby-Doo and Guess Who? & Boomerang         & 2     & Dark Diner of Route 66!              & NULL & NULL & 2021-02-25 & 22 & TV Series & ⋯ & FALSE & FALSE & FALSE & FALSE & FALSE & Frank Welker & Grey DeLisle & Kate Micucci & Matthew Lillard & Frank Welker\\\\\n",
       "\t 603 & Scooby-Doo and Guess Who? & Boomerang         & 2     & Total Jeopardy!                      & NULL & NULL & 2020-11-13 & 23 & TV Series & ⋯ & FALSE & FALSE & FALSE & FALSE & FALSE & Frank Welker & Grey DeLisle & Kate Micucci & Matthew Lillard & Frank Welker\\\\\n",
       "\\end{tabular}\n"
      ],
      "text/markdown": [
       "\n",
       "A tibble: 6 × 75\n",
       "\n",
       "| index &lt;dbl&gt; | series_name &lt;chr&gt; | network &lt;chr&gt; | season &lt;chr&gt; | title &lt;chr&gt; | imdb &lt;chr&gt; | engagement &lt;chr&gt; | date_aired &lt;date&gt; | run_time &lt;dbl&gt; | format &lt;chr&gt; | ⋯ ⋯ | batman &lt;lgl&gt; | scooby_dum &lt;lgl&gt; | scrappy_doo &lt;lgl&gt; | hex_girls &lt;lgl&gt; | blue_falcon &lt;lgl&gt; | fred_va &lt;chr&gt; | daphnie_va &lt;chr&gt; | velma_va &lt;chr&gt; | shaggy_va &lt;chr&gt; | scooby_va &lt;chr&gt; |\n",
       "|---|---|---|---|---|---|---|---|---|---|---|---|---|---|---|---|---|---|---|---|---|\n",
       "| 598 | Scooby-Doo and Guess Who? | Boomerang         | 2     | The 7th Inning Scare!                | NULL | NULL | 2020-10-01 | 22 | TV Series | ⋯ | FALSE | FALSE | FALSE | FALSE | FALSE | Frank Welker | Grey DeLisle | Kate Micucci | Matthew Lillard | Frank Welker |\n",
       "| 599 | Scooby-Doo and Guess Who? | Boomerang         | 2     | The Dreaded Remake of Jekyll &amp; Hyde! | NULL | NULL | 2020-10-01 | 22 | TV Series | ⋯ | FALSE | FALSE | FALSE | FALSE | FALSE | Frank Welker | Grey DeLisle | Kate Micucci | Matthew Lillard | Frank Welker |\n",
       "| 600 | Warner Home Video         | Warner Home Video | Movie | Happy Halloween, Scooby-Doo!         | 6.3  | 978  | 2020-10-06 | 76 | Movie     | ⋯ | FALSE | FALSE | FALSE | FALSE | FALSE | Frank Welker | Grey DeLisle | Kate Micucci | Matthew Lillard | Frank Welker |\n",
       "| 601 | Warner Home Video         | Warner Home Video | Movie | Scooby-Doo! The Sword and the Scoob  | 6.2  | 422  | 2020-02-23 | 77 | Movie     | ⋯ | FALSE | FALSE | FALSE | FALSE | FALSE | Frank Welker | Grey DeLisle | Kate Micucci | Matthew Lillard | Frank Welker |\n",
       "| 602 | Scooby-Doo and Guess Who? | Boomerang         | 2     | Dark Diner of Route 66!              | NULL | NULL | 2021-02-25 | 22 | TV Series | ⋯ | FALSE | FALSE | FALSE | FALSE | FALSE | Frank Welker | Grey DeLisle | Kate Micucci | Matthew Lillard | Frank Welker |\n",
       "| 603 | Scooby-Doo and Guess Who? | Boomerang         | 2     | Total Jeopardy!                      | NULL | NULL | 2020-11-13 | 23 | TV Series | ⋯ | FALSE | FALSE | FALSE | FALSE | FALSE | Frank Welker | Grey DeLisle | Kate Micucci | Matthew Lillard | Frank Welker |\n",
       "\n"
      ],
      "text/plain": [
       "  index series_name               network           season\n",
       "1 598   Scooby-Doo and Guess Who? Boomerang         2     \n",
       "2 599   Scooby-Doo and Guess Who? Boomerang         2     \n",
       "3 600   Warner Home Video         Warner Home Video Movie \n",
       "4 601   Warner Home Video         Warner Home Video Movie \n",
       "5 602   Scooby-Doo and Guess Who? Boomerang         2     \n",
       "6 603   Scooby-Doo and Guess Who? Boomerang         2     \n",
       "  title                                imdb engagement date_aired run_time\n",
       "1 The 7th Inning Scare!                NULL NULL       2020-10-01 22      \n",
       "2 The Dreaded Remake of Jekyll & Hyde! NULL NULL       2020-10-01 22      \n",
       "3 Happy Halloween, Scooby-Doo!         6.3  978        2020-10-06 76      \n",
       "4 Scooby-Doo! The Sword and the Scoob  6.2  422        2020-02-23 77      \n",
       "5 Dark Diner of Route 66!              NULL NULL       2021-02-25 22      \n",
       "6 Total Jeopardy!                      NULL NULL       2020-11-13 23      \n",
       "  format    ⋯ batman scooby_dum scrappy_doo hex_girls blue_falcon fred_va     \n",
       "1 TV Series ⋯ FALSE  FALSE      FALSE       FALSE     FALSE       Frank Welker\n",
       "2 TV Series ⋯ FALSE  FALSE      FALSE       FALSE     FALSE       Frank Welker\n",
       "3 Movie     ⋯ FALSE  FALSE      FALSE       FALSE     FALSE       Frank Welker\n",
       "4 Movie     ⋯ FALSE  FALSE      FALSE       FALSE     FALSE       Frank Welker\n",
       "5 TV Series ⋯ FALSE  FALSE      FALSE       FALSE     FALSE       Frank Welker\n",
       "6 TV Series ⋯ FALSE  FALSE      FALSE       FALSE     FALSE       Frank Welker\n",
       "  daphnie_va   velma_va     shaggy_va       scooby_va   \n",
       "1 Grey DeLisle Kate Micucci Matthew Lillard Frank Welker\n",
       "2 Grey DeLisle Kate Micucci Matthew Lillard Frank Welker\n",
       "3 Grey DeLisle Kate Micucci Matthew Lillard Frank Welker\n",
       "4 Grey DeLisle Kate Micucci Matthew Lillard Frank Welker\n",
       "5 Grey DeLisle Kate Micucci Matthew Lillard Frank Welker\n",
       "6 Grey DeLisle Kate Micucci Matthew Lillard Frank Welker"
      ]
     },
     "metadata": {},
     "output_type": "display_data"
    }
   ],
   "source": [
    "tail(scooby)"
   ]
  },
  {
   "cell_type": "markdown",
   "metadata": {},
   "source": [
    "## **View Table**"
   ]
  },
  {
   "cell_type": "code",
   "execution_count": 10,
   "metadata": {
    "vscode": {
     "languageId": "r"
    }
   },
   "outputs": [],
   "source": [
    "# View Data Table\n",
    "# View(scooby)"
   ]
  },
  {
   "cell_type": "markdown",
   "metadata": {},
   "source": [
    "## **Glimpse**"
   ]
  },
  {
   "cell_type": "code",
   "execution_count": 41,
   "metadata": {
    "vscode": {
     "languageId": "r"
    }
   },
   "outputs": [
    {
     "name": "stdout",
     "output_type": "stream",
     "text": [
      "Rows: 603\n",
      "Columns: 75\n",
      "$ index                    \u001b[3m\u001b[90m<dbl>\u001b[39m\u001b[23m 1, 2, 3, 4, 5, 6, 7, 8, 9, 10, 11, 12, 13, 14…\n",
      "$ series_name              \u001b[3m\u001b[90m<chr>\u001b[39m\u001b[23m \"Scooby Doo, Where Are You!\", \"Scooby Doo, Wh…\n",
      "$ network                  \u001b[3m\u001b[90m<chr>\u001b[39m\u001b[23m \"CBS\", \"CBS\", \"CBS\", \"CBS\", \"CBS\", \"CBS\", \"CB…\n",
      "$ season                   \u001b[3m\u001b[90m<chr>\u001b[39m\u001b[23m \"1\", \"1\", \"1\", \"1\", \"1\", \"1\", \"1\", \"1\", \"1\", …\n",
      "$ title                    \u001b[3m\u001b[90m<chr>\u001b[39m\u001b[23m \"What a Night for a Knight\", \"A Clue for Scoo…\n",
      "$ imdb                     \u001b[3m\u001b[90m<chr>\u001b[39m\u001b[23m \"8.1\", \"8.1\", \"8\", \"7.8\", \"7.5\", \"8.4\", \"7.6\"…\n",
      "$ engagement               \u001b[3m\u001b[90m<chr>\u001b[39m\u001b[23m \"556\", \"479\", \"455\", \"426\", \"391\", \"384\", \"35…\n",
      "$ date_aired               \u001b[3m\u001b[90m<date>\u001b[39m\u001b[23m 1969-09-13, 1969-09-20, 1969-09-27, 1969-10-…\n",
      "$ run_time                 \u001b[3m\u001b[90m<dbl>\u001b[39m\u001b[23m 21, 22, 21, 21, 21, 21, 21, 21, 21, 21, 21, 2…\n",
      "$ format                   \u001b[3m\u001b[90m<chr>\u001b[39m\u001b[23m \"TV Series\", \"TV Series\", \"TV Series\", \"TV Se…\n",
      "$ monster_name             \u001b[3m\u001b[90m<chr>\u001b[39m\u001b[23m \"Black Knight\", \"Ghost of Cptn. Cuttler\", \"Ph…\n",
      "$ monster_gender           \u001b[3m\u001b[90m<chr>\u001b[39m\u001b[23m \"Male\", \"Male\", \"Male\", \"Male\", \"Female\", \"Ma…\n",
      "$ monster_type             \u001b[3m\u001b[90m<chr>\u001b[39m\u001b[23m \"Possessed Object\", \"Ghost\", \"Ghost\", \"Ancien…\n",
      "$ monster_subtype          \u001b[3m\u001b[90m<chr>\u001b[39m\u001b[23m \"Suit\", \"Suit\", \"Phantom\", \"Miner\", \"Witch Do…\n",
      "$ monster_species          \u001b[3m\u001b[90m<chr>\u001b[39m\u001b[23m \"Object\", \"Human\", \"Human\", \"Human\", \"Human\",…\n",
      "$ monster_real             \u001b[3m\u001b[90m<chr>\u001b[39m\u001b[23m \"FALSE\", \"FALSE\", \"FALSE\", \"FALSE\", \"FALSE\", …\n",
      "$ monster_amount           \u001b[3m\u001b[90m<dbl>\u001b[39m\u001b[23m 1, 1, 1, 1, 1, 1, 1, 1, 1, 1, 3, 1, 2, 1, 1, …\n",
      "$ caught_fred              \u001b[3m\u001b[90m<chr>\u001b[39m\u001b[23m \"FALSE\", \"FALSE\", \"FALSE\", \"TRUE\", \"FALSE\", \"…\n",
      "$ caught_daphnie           \u001b[3m\u001b[90m<chr>\u001b[39m\u001b[23m \"FALSE\", \"FALSE\", \"FALSE\", \"FALSE\", \"FALSE\", …\n",
      "$ caught_velma             \u001b[3m\u001b[90m<chr>\u001b[39m\u001b[23m \"FALSE\", \"FALSE\", \"FALSE\", \"FALSE\", \"FALSE\", …\n",
      "$ caught_shaggy            \u001b[3m\u001b[90m<chr>\u001b[39m\u001b[23m \"TRUE\", \"TRUE\", \"FALSE\", \"FALSE\", \"FALSE\", \"F…\n",
      "$ caught_scooby            \u001b[3m\u001b[90m<chr>\u001b[39m\u001b[23m \"TRUE\", \"FALSE\", \"TRUE\", \"FALSE\", \"TRUE\", \"FA…\n",
      "$ captured_fred            \u001b[3m\u001b[90m<chr>\u001b[39m\u001b[23m \"FALSE\", \"TRUE\", \"FALSE\", \"FALSE\", \"FALSE\", \"…\n",
      "$ captured_daphnie         \u001b[3m\u001b[90m<chr>\u001b[39m\u001b[23m \"FALSE\", \"TRUE\", \"FALSE\", \"FALSE\", \"FALSE\", \"…\n",
      "$ captured_velma           \u001b[3m\u001b[90m<chr>\u001b[39m\u001b[23m \"FALSE\", \"TRUE\", \"FALSE\", \"FALSE\", \"FALSE\", \"…\n",
      "$ captured_shaggy          \u001b[3m\u001b[90m<chr>\u001b[39m\u001b[23m \"FALSE\", \"FALSE\", \"FALSE\", \"FALSE\", \"FALSE\", …\n",
      "$ captured_scooby          \u001b[3m\u001b[90m<chr>\u001b[39m\u001b[23m \"FALSE\", \"FALSE\", \"FALSE\", \"FALSE\", \"TRUE\", \"…\n",
      "$ unmask_fred              \u001b[3m\u001b[90m<chr>\u001b[39m\u001b[23m \"FALSE\", \"TRUE\", \"TRUE\", \"TRUE\", \"FALSE\", \"TR…\n",
      "$ unmask_daphnie           \u001b[3m\u001b[90m<chr>\u001b[39m\u001b[23m \"FALSE\", \"FALSE\", \"FALSE\", \"FALSE\", \"FALSE\", …\n",
      "$ unmask_velma             \u001b[3m\u001b[90m<chr>\u001b[39m\u001b[23m \"FALSE\", \"FALSE\", \"FALSE\", \"FALSE\", \"FALSE\", …\n",
      "$ unmask_shaggy            \u001b[3m\u001b[90m<chr>\u001b[39m\u001b[23m \"FALSE\", \"FALSE\", \"FALSE\", \"FALSE\", \"FALSE\", …\n",
      "$ unmask_scooby            \u001b[3m\u001b[90m<chr>\u001b[39m\u001b[23m \"TRUE\", \"FALSE\", \"FALSE\", \"FALSE\", \"TRUE\", \"F…\n",
      "$ snack_fred               \u001b[3m\u001b[90m<chr>\u001b[39m\u001b[23m \"TRUE\", \"FALSE\", \"TRUE\", \"FALSE\", \"FALSE\", \"T…\n",
      "$ snack_daphnie            \u001b[3m\u001b[90m<chr>\u001b[39m\u001b[23m \"FALSE\", \"FALSE\", \"FALSE\", \"TRUE\", \"TRUE\", \"F…\n",
      "$ snack_velma              \u001b[3m\u001b[90m<chr>\u001b[39m\u001b[23m \"FALSE\", \"TRUE\", \"FALSE\", \"FALSE\", \"FALSE\", \"…\n",
      "$ snack_shaggy             \u001b[3m\u001b[90m<chr>\u001b[39m\u001b[23m \"FALSE\", \"FALSE\", \"FALSE\", \"FALSE\", \"FALSE\", …\n",
      "$ snack_scooby             \u001b[3m\u001b[90m<chr>\u001b[39m\u001b[23m \"FALSE\", \"FALSE\", \"FALSE\", \"FALSE\", \"FALSE\", …\n",
      "$ unmask_other             \u001b[3m\u001b[90m<lgl>\u001b[39m\u001b[23m FALSE, FALSE, FALSE, FALSE, FALSE, FALSE, FAL…\n",
      "$ caught_other             \u001b[3m\u001b[90m<lgl>\u001b[39m\u001b[23m FALSE, FALSE, FALSE, FALSE, FALSE, FALSE, FAL…\n",
      "$ caught_not               \u001b[3m\u001b[90m<lgl>\u001b[39m\u001b[23m FALSE, FALSE, FALSE, FALSE, FALSE, FALSE, FAL…\n",
      "$ trap_work_first          \u001b[3m\u001b[90m<chr>\u001b[39m\u001b[23m \"NULL\", \"FALSE\", \"FALSE\", \"TRUE\", \"NULL\", \"TR…\n",
      "$ setting_terrain          \u001b[3m\u001b[90m<chr>\u001b[39m\u001b[23m \"Urban\", \"Coast\", \"Island\", \"Cave\", \"Desert\",…\n",
      "$ setting_country_state    \u001b[3m\u001b[90m<chr>\u001b[39m\u001b[23m \"United States\", \"United States\", \"United Sta…\n",
      "$ suspects_amount          \u001b[3m\u001b[90m<dbl>\u001b[39m\u001b[23m 2, 2, 0, 2, 1, 2, 1, 2, 1, 1, 1, 1, 2, 2, 1, …\n",
      "$ non_suspect              \u001b[3m\u001b[90m<chr>\u001b[39m\u001b[23m \"FALSE\", \"TRUE\", \"TRUE\", \"FALSE\", \"FALSE\", \"F…\n",
      "$ arrested                 \u001b[3m\u001b[90m<chr>\u001b[39m\u001b[23m \"TRUE\", \"TRUE\", \"TRUE\", \"TRUE\", \"TRUE\", \"TRUE…\n",
      "$ culprit_name             \u001b[3m\u001b[90m<chr>\u001b[39m\u001b[23m \"Mr. Wickles\", \"Cptn. Cuttler\", \"Bluestone th…\n",
      "$ culprit_gender           \u001b[3m\u001b[90m<chr>\u001b[39m\u001b[23m \"Male\", \"Male\", \"Male\", \"Male\", \"Male\", \"Male…\n",
      "$ culprit_amount           \u001b[3m\u001b[90m<dbl>\u001b[39m\u001b[23m 1, 1, 1, 1, 1, 1, 1, 1, 1, 1, 1, 1, 2, 1, 1, …\n",
      "$ motive                   \u001b[3m\u001b[90m<chr>\u001b[39m\u001b[23m \"Theft\", \"Theft\", \"Treasure\", \"Natural Resour…\n",
      "$ if_it_wasnt_for          \u001b[3m\u001b[90m<chr>\u001b[39m\u001b[23m \"NULL\", \"NULL\", \"NULL\", \"NULL\", \"NULL\", \"NULL…\n",
      "$ and_that                 \u001b[3m\u001b[90m<chr>\u001b[39m\u001b[23m \"NULL\", \"NULL\", \"NULL\", \"NULL\", \"NULL\", \"NULL…\n",
      "$ door_gag                 \u001b[3m\u001b[90m<lgl>\u001b[39m\u001b[23m FALSE, FALSE, FALSE, FALSE, FALSE, FALSE, FAL…\n",
      "$ number_of_snacks         \u001b[3m\u001b[90m<chr>\u001b[39m\u001b[23m \"2\", \"1\", \"3\", \"2\", \"2\", \"4\", \"4\", \"0\", \"1\", …\n",
      "$ split_up                 \u001b[3m\u001b[90m<chr>\u001b[39m\u001b[23m \"1\", \"0\", \"0\", \"1\", \"0\", \"0\", \"1\", \"0\", \"0\", …\n",
      "$ another_mystery          \u001b[3m\u001b[90m<chr>\u001b[39m\u001b[23m \"1\", \"0\", \"0\", \"0\", \"1\", \"0\", \"0\", \"0\", \"0\", …\n",
      "$ set_a_trap               \u001b[3m\u001b[90m<chr>\u001b[39m\u001b[23m \"0\", \"0\", \"0\", \"0\", \"0\", \"0\", \"1\", \"1\", \"0\", …\n",
      "$ jeepers                  \u001b[3m\u001b[90m<chr>\u001b[39m\u001b[23m \"0\", \"0\", \"0\", \"0\", \"0\", \"1\", \"0\", \"0\", \"0\", …\n",
      "$ jinkies                  \u001b[3m\u001b[90m<chr>\u001b[39m\u001b[23m \"0\", \"0\", \"0\", \"0\", \"0\", \"0\", \"0\", \"0\", \"0\", …\n",
      "$ my_glasses               \u001b[3m\u001b[90m<chr>\u001b[39m\u001b[23m \"1\", \"0\", \"0\", \"0\", \"1\", \"0\", \"0\", \"1\", \"0\", …\n",
      "$ just_about_wrapped_up    \u001b[3m\u001b[90m<chr>\u001b[39m\u001b[23m \"0\", \"0\", \"0\", \"0\", \"0\", \"0\", \"0\", \"0\", \"0\", …\n",
      "$ zoinks                   \u001b[3m\u001b[90m<chr>\u001b[39m\u001b[23m \"1\", \"3\", \"1\", \"2\", \"0\", \"2\", \"1\", \"0\", \"0\", …\n",
      "$ groovy                   \u001b[3m\u001b[90m<chr>\u001b[39m\u001b[23m \"0\", \"0\", \"2\", \"1\", \"0\", \"0\", \"1\", \"0\", \"0\", …\n",
      "$ scooby_doo_where_are_you \u001b[3m\u001b[90m<chr>\u001b[39m\u001b[23m \"0\", \"1\", \"0\", \"0\", \"1\", \"0\", \"0\", \"1\", \"0\", …\n",
      "$ rooby_rooby_roo          \u001b[3m\u001b[90m<chr>\u001b[39m\u001b[23m \"1\", \"0\", \"0\", \"0\", \"0\", \"1\", \"1\", \"1\", \"1\", …\n",
      "$ batman                   \u001b[3m\u001b[90m<lgl>\u001b[39m\u001b[23m FALSE, FALSE, FALSE, FALSE, FALSE, FALSE, FAL…\n",
      "$ scooby_dum               \u001b[3m\u001b[90m<lgl>\u001b[39m\u001b[23m FALSE, FALSE, FALSE, FALSE, FALSE, FALSE, FAL…\n",
      "$ scrappy_doo              \u001b[3m\u001b[90m<lgl>\u001b[39m\u001b[23m FALSE, FALSE, FALSE, FALSE, FALSE, FALSE, FAL…\n",
      "$ hex_girls                \u001b[3m\u001b[90m<lgl>\u001b[39m\u001b[23m FALSE, FALSE, FALSE, FALSE, FALSE, FALSE, FAL…\n",
      "$ blue_falcon              \u001b[3m\u001b[90m<lgl>\u001b[39m\u001b[23m FALSE, FALSE, FALSE, FALSE, FALSE, FALSE, FAL…\n",
      "$ fred_va                  \u001b[3m\u001b[90m<chr>\u001b[39m\u001b[23m \"Frank Welker\", \"Frank Welker\", \"Frank Welker…\n",
      "$ daphnie_va               \u001b[3m\u001b[90m<chr>\u001b[39m\u001b[23m \"Stefanianna Christopherson\", \"Stefanianna Ch…\n",
      "$ velma_va                 \u001b[3m\u001b[90m<chr>\u001b[39m\u001b[23m \"Nicole Jaffe\", \"Nicole Jaffe\", \"Nicole Jaffe…\n",
      "$ shaggy_va                \u001b[3m\u001b[90m<chr>\u001b[39m\u001b[23m \"Casey Kasem\", \"Casey Kasem\", \"Casey Kasem\", …\n",
      "$ scooby_va                \u001b[3m\u001b[90m<chr>\u001b[39m\u001b[23m \"Don Messick\", \"Don Messick\", \"Don Messick\", …\n"
     ]
    }
   ],
   "source": [
    "glimpse(scooby)"
   ]
  },
  {
   "cell_type": "markdown",
   "metadata": {},
   "source": [
    "## **Get Summary**"
   ]
  },
  {
   "cell_type": "code",
   "execution_count": 12,
   "metadata": {
    "vscode": {
     "languageId": "r"
    }
   },
   "outputs": [
    {
     "data": {
      "text/plain": [
       "     index       series_name          network             season         \n",
       " Min.   :  1.0   Length:603         Length:603         Length:603        \n",
       " 1st Qu.:151.5   Class :character   Class :character   Class :character  \n",
       " Median :302.0   Mode  :character   Mode  :character   Mode  :character  \n",
       " Mean   :302.0                                                           \n",
       " 3rd Qu.:452.5                                                           \n",
       " Max.   :603.0                                                           \n",
       "    title               imdb            engagement          date_aired        \n",
       " Length:603         Length:603         Length:603         Min.   :1969-09-13  \n",
       " Class :character   Class :character   Class :character   1st Qu.:1979-12-04  \n",
       " Mode  :character   Mode  :character   Mode  :character   Median :1988-09-10  \n",
       "                                                          Mean   :1994-09-18  \n",
       "                                                          3rd Qu.:2011-12-09  \n",
       "                                                          Max.   :2021-02-25  \n",
       "    run_time        format          monster_name       monster_gender    \n",
       " Min.   : 4.00   Length:603         Length:603         Length:603        \n",
       " 1st Qu.:12.00   Class :character   Class :character   Class :character  \n",
       " Median :22.00   Mode  :character   Mode  :character   Mode  :character  \n",
       " Mean   :23.52                                                           \n",
       " 3rd Qu.:23.00                                                           \n",
       " Max.   :94.00                                                           \n",
       " monster_type       monster_subtype    monster_species    monster_real      \n",
       " Length:603         Length:603         Length:603         Length:603        \n",
       " Class :character   Class :character   Class :character   Class :character  \n",
       " Mode  :character   Mode  :character   Mode  :character   Mode  :character  \n",
       "                                                                            \n",
       "                                                                            \n",
       "                                                                            \n",
       " monster_amount  caught_fred        caught_daphnie     caught_velma      \n",
       " Min.   : 0.00   Length:603         Length:603         Length:603        \n",
       " 1st Qu.: 1.00   Class :character   Class :character   Class :character  \n",
       " Median : 1.00   Mode  :character   Mode  :character   Mode  :character  \n",
       " Mean   : 1.75                                                           \n",
       " 3rd Qu.: 2.00                                                           \n",
       " Max.   :19.00                                                           \n",
       " caught_shaggy      caught_scooby      captured_fred      captured_daphnie  \n",
       " Length:603         Length:603         Length:603         Length:603        \n",
       " Class :character   Class :character   Class :character   Class :character  \n",
       " Mode  :character   Mode  :character   Mode  :character   Mode  :character  \n",
       "                                                                            \n",
       "                                                                            \n",
       "                                                                            \n",
       " captured_velma     captured_shaggy    captured_scooby    unmask_fred       \n",
       " Length:603         Length:603         Length:603         Length:603        \n",
       " Class :character   Class :character   Class :character   Class :character  \n",
       " Mode  :character   Mode  :character   Mode  :character   Mode  :character  \n",
       "                                                                            \n",
       "                                                                            \n",
       "                                                                            \n",
       " unmask_daphnie     unmask_velma       unmask_shaggy      unmask_scooby     \n",
       " Length:603         Length:603         Length:603         Length:603        \n",
       " Class :character   Class :character   Class :character   Class :character  \n",
       " Mode  :character   Mode  :character   Mode  :character   Mode  :character  \n",
       "                                                                            \n",
       "                                                                            \n",
       "                                                                            \n",
       "  snack_fred        snack_daphnie      snack_velma        snack_shaggy      \n",
       " Length:603         Length:603         Length:603         Length:603        \n",
       " Class :character   Class :character   Class :character   Class :character  \n",
       " Mode  :character   Mode  :character   Mode  :character   Mode  :character  \n",
       "                                                                            \n",
       "                                                                            \n",
       "                                                                            \n",
       " snack_scooby       unmask_other    caught_other    caught_not     \n",
       " Length:603         Mode :logical   Mode :logical   Mode :logical  \n",
       " Class :character   FALSE:568       FALSE:519       FALSE:572      \n",
       " Mode  :character   TRUE :35        TRUE :84        TRUE :31       \n",
       "                                                                   \n",
       "                                                                   \n",
       "                                                                   \n",
       " trap_work_first    setting_terrain    setting_country_state suspects_amount \n",
       " Length:603         Length:603         Length:603            Min.   : 0.000  \n",
       " Class :character   Class :character   Class :character      1st Qu.: 1.000  \n",
       " Mode  :character   Mode  :character   Mode  :character      Median : 3.000  \n",
       "                                                             Mean   : 2.851  \n",
       "                                                             3rd Qu.: 4.000  \n",
       "                                                             Max.   :20.000  \n",
       " non_suspect          arrested         culprit_name       culprit_gender    \n",
       " Length:603         Length:603         Length:603         Length:603        \n",
       " Class :character   Class :character   Class :character   Class :character  \n",
       " Mode  :character   Mode  :character   Mode  :character   Mode  :character  \n",
       "                                                                            \n",
       "                                                                            \n",
       "                                                                            \n",
       " culprit_amount     motive          if_it_wasnt_for      and_that        \n",
       " Min.   : 0.00   Length:603         Length:603         Length:603        \n",
       " 1st Qu.: 0.00   Class :character   Class :character   Class :character  \n",
       " Median : 1.00   Mode  :character   Mode  :character   Mode  :character  \n",
       " Mean   : 1.04                                                           \n",
       " 3rd Qu.: 1.00                                                           \n",
       " Max.   :11.00                                                           \n",
       "  door_gag       number_of_snacks     split_up         another_mystery   \n",
       " Mode :logical   Length:603         Length:603         Length:603        \n",
       " FALSE:544       Class :character   Class :character   Class :character  \n",
       " TRUE :59        Mode  :character   Mode  :character   Mode  :character  \n",
       "                                                                         \n",
       "                                                                         \n",
       "                                                                         \n",
       "  set_a_trap          jeepers            jinkies           my_glasses       \n",
       " Length:603         Length:603         Length:603         Length:603        \n",
       " Class :character   Class :character   Class :character   Class :character  \n",
       " Mode  :character   Mode  :character   Mode  :character   Mode  :character  \n",
       "                                                                            \n",
       "                                                                            \n",
       "                                                                            \n",
       " just_about_wrapped_up    zoinks             groovy         \n",
       " Length:603            Length:603         Length:603        \n",
       " Class :character      Class :character   Class :character  \n",
       " Mode  :character      Mode  :character   Mode  :character  \n",
       "                                                            \n",
       "                                                            \n",
       "                                                            \n",
       " scooby_doo_where_are_you rooby_rooby_roo      batman        scooby_dum     \n",
       " Length:603               Length:603         Mode :logical   Mode :logical  \n",
       " Class :character         Class :character   FALSE:599       FALSE:586      \n",
       " Mode  :character         Mode  :character   TRUE :4         TRUE :17       \n",
       "                                                                            \n",
       "                                                                            \n",
       "                                                                            \n",
       " scrappy_doo     hex_girls       blue_falcon       fred_va         \n",
       " Mode :logical   Mode :logical   Mode :logical   Length:603        \n",
       " FALSE:438       FALSE:597       FALSE:570       Class :character  \n",
       " TRUE :165       TRUE :6         TRUE :33        Mode  :character  \n",
       "                                                                   \n",
       "                                                                   \n",
       "                                                                   \n",
       "  daphnie_va          velma_va          shaggy_va          scooby_va        \n",
       " Length:603         Length:603         Length:603         Length:603        \n",
       " Class :character   Class :character   Class :character   Class :character  \n",
       " Mode  :character   Mode  :character   Mode  :character   Mode  :character  \n",
       "                                                                            \n",
       "                                                                            \n",
       "                                                                            "
      ]
     },
     "metadata": {},
     "output_type": "display_data"
    }
   ],
   "source": [
    "# Summary\n",
    "summary(scooby)"
   ]
  },
  {
   "cell_type": "markdown",
   "metadata": {},
   "source": [
    "## **Column Summary**"
   ]
  },
  {
   "cell_type": "code",
   "execution_count": 13,
   "metadata": {
    "vscode": {
     "languageId": "r"
    }
   },
   "outputs": [
    {
     "data": {
      "text/plain": [
       "   Min. 1st Qu.  Median    Mean 3rd Qu.    Max. \n",
       "   4.00   12.00   22.00   23.52   23.00   94.00 "
      ]
     },
     "metadata": {},
     "output_type": "display_data"
    }
   ],
   "source": [
    "summary(scooby$run_time)"
   ]
  },
  {
   "cell_type": "code",
   "execution_count": 14,
   "metadata": {
    "vscode": {
     "languageId": "r"
    }
   },
   "outputs": [
    {
     "data": {
      "text/html": [
       "23.5207296849088"
      ],
      "text/latex": [
       "23.5207296849088"
      ],
      "text/markdown": [
       "23.5207296849088"
      ],
      "text/plain": [
       "[1] 23.52073"
      ]
     },
     "metadata": {},
     "output_type": "display_data"
    }
   ],
   "source": [
    "mean(scooby$run_time)"
   ]
  },
  {
   "cell_type": "code",
   "execution_count": 20,
   "metadata": {
    "vscode": {
     "languageId": "r"
    }
   },
   "outputs": [
    {
     "name": "stderr",
     "output_type": "stream",
     "text": [
      "Warning message in mean.default(scooby$imdb):\n",
      "\"argument is not numeric or logical: returning NA\"\n"
     ]
    },
    {
     "data": {
      "text/html": [
       "&lt;NA&gt;"
      ],
      "text/latex": [
       "<NA>"
      ],
      "text/markdown": [
       "&lt;NA&gt;"
      ],
      "text/plain": [
       "[1] NA"
      ]
     },
     "metadata": {},
     "output_type": "display_data"
    }
   ],
   "source": [
    "# Mean Of Column With Missing Values\n",
    "mean(scooby$imdb)"
   ]
  },
  {
   "cell_type": "code",
   "execution_count": 36,
   "metadata": {
    "vscode": {
     "languageId": "r"
    }
   },
   "outputs": [
    {
     "name": "stderr",
     "output_type": "stream",
     "text": [
      "Warning message in mean.default(scooby$imdb, na.rm = TRUE):\n",
      "\"argument is not numeric or logical: returning NA\"\n"
     ]
    },
    {
     "data": {
      "text/html": [
       "&lt;NA&gt;"
      ],
      "text/latex": [
       "<NA>"
      ],
      "text/markdown": [
       "&lt;NA&gt;"
      ],
      "text/plain": [
       "[1] NA"
      ]
     },
     "metadata": {},
     "output_type": "display_data"
    }
   ],
   "source": [
    "# Mean Of Column With Missing Values\n",
    "mean(scooby$imdb,na.rm = TRUE)"
   ]
  },
  {
   "cell_type": "markdown",
   "metadata": {},
   "source": [
    "# **Tidyverse Package**"
   ]
  },
  {
   "cell_type": "code",
   "execution_count": 37,
   "metadata": {
    "vscode": {
     "languageId": "r"
    }
   },
   "outputs": [
    {
     "name": "stderr",
     "output_type": "stream",
     "text": [
      "Installing package into 'C:/Users/aksha/AppData/Local/R/win-library/4.3'\n",
      "(as 'lib' is unspecified)\n",
      "\n",
      "also installing the dependencies 'blob', 'DBI', 'data.table', 'gargle', 'ids', 'timechange', 'selectr', 'broom', 'conflicted', 'dbplyr', 'dtplyr', 'forcats', 'googledrive', 'googlesheets4', 'haven', 'lubridate', 'modelr', 'reprex', 'rvest'\n",
      "\n",
      "\n"
     ]
    },
    {
     "name": "stdout",
     "output_type": "stream",
     "text": [
      "package 'blob' successfully unpacked and MD5 sums checked\n",
      "package 'DBI' successfully unpacked and MD5 sums checked\n",
      "package 'data.table' successfully unpacked and MD5 sums checked\n",
      "package 'gargle' successfully unpacked and MD5 sums checked\n",
      "package 'ids' successfully unpacked and MD5 sums checked\n",
      "package 'timechange' successfully unpacked and MD5 sums checked\n",
      "package 'selectr' successfully unpacked and MD5 sums checked\n",
      "package 'broom' successfully unpacked and MD5 sums checked\n",
      "package 'conflicted' successfully unpacked and MD5 sums checked\n",
      "package 'dbplyr' successfully unpacked and MD5 sums checked\n",
      "package 'dtplyr' successfully unpacked and MD5 sums checked\n",
      "package 'forcats' successfully unpacked and MD5 sums checked\n",
      "package 'googledrive' successfully unpacked and MD5 sums checked\n",
      "package 'googlesheets4' successfully unpacked and MD5 sums checked\n",
      "package 'haven' successfully unpacked and MD5 sums checked\n",
      "package 'lubridate' successfully unpacked and MD5 sums checked\n",
      "package 'modelr' successfully unpacked and MD5 sums checked\n",
      "package 'reprex' successfully unpacked and MD5 sums checked\n",
      "package 'rvest' successfully unpacked and MD5 sums checked\n",
      "package 'tidyverse' successfully unpacked and MD5 sums checked\n",
      "\n",
      "The downloaded binary packages are in\n",
      "\tC:\\Users\\aksha\\AppData\\Local\\Temp\\RtmpqelEPW\\downloaded_packages\n"
     ]
    },
    {
     "name": "stderr",
     "output_type": "stream",
     "text": [
      "── \u001b[1mAttaching core tidyverse packages\u001b[22m ──────────────────────── tidyverse 2.0.0 ──\n",
      "\u001b[32m✔\u001b[39m \u001b[34mdplyr    \u001b[39m 1.1.4     \u001b[32m✔\u001b[39m \u001b[34mpurrr    \u001b[39m 1.0.2\n",
      "\u001b[32m✔\u001b[39m \u001b[34mforcats  \u001b[39m 1.0.0     \u001b[32m✔\u001b[39m \u001b[34mstringr  \u001b[39m 1.5.1\n",
      "\u001b[32m✔\u001b[39m \u001b[34mggplot2  \u001b[39m 3.4.4     \u001b[32m✔\u001b[39m \u001b[34mtibble   \u001b[39m 3.2.1\n",
      "\u001b[32m✔\u001b[39m \u001b[34mlubridate\u001b[39m 1.9.3     \u001b[32m✔\u001b[39m \u001b[34mtidyr    \u001b[39m 1.3.0\n",
      "── \u001b[1mConflicts\u001b[22m ────────────────────────────────────────── tidyverse_conflicts() ──\n",
      "\u001b[31m✖\u001b[39m \u001b[34mdplyr\u001b[39m::\u001b[32mfilter()\u001b[39m masks \u001b[34mstats\u001b[39m::filter()\n",
      "\u001b[31m✖\u001b[39m \u001b[34mdplyr\u001b[39m::\u001b[32mlag()\u001b[39m    masks \u001b[34mstats\u001b[39m::lag()\n",
      "\u001b[36mℹ\u001b[39m Use the conflicted package (\u001b[3m\u001b[34m<http://conflicted.r-lib.org/>\u001b[39m\u001b[23m) to force all conflicts to become errors\n"
     ]
    }
   ],
   "source": [
    "install.packages('tidyverse')\n",
    "library(tidyverse)"
   ]
  },
  {
   "cell_type": "markdown",
   "metadata": {},
   "source": [
    "## **In-Built Datasets**"
   ]
  },
  {
   "cell_type": "code",
   "execution_count": 38,
   "metadata": {
    "vscode": {
     "languageId": "r"
    }
   },
   "outputs": [
    {
     "name": "stdout",
     "output_type": "stream",
     "text": [
      "Data sets in package 'datasets':\n",
      "\n",
      "AirPassengers           Monthly Airline Passenger Numbers 1949-1960\n",
      "BJsales                 Sales Data with Leading Indicator\n",
      "BJsales.lead (BJsales)\n",
      "                        Sales Data with Leading Indicator\n",
      "BOD                     Biochemical Oxygen Demand\n",
      "CO2                     Carbon Dioxide Uptake in Grass Plants\n",
      "ChickWeight             Weight versus age of chicks on different diets\n",
      "DNase                   Elisa assay of DNase\n",
      "EuStockMarkets          Daily Closing Prices of Major European Stock\n",
      "                        Indices, 1991-1998\n",
      "Formaldehyde            Determination of Formaldehyde\n",
      "HairEyeColor            Hair and Eye Color of Statistics Students\n",
      "Harman23.cor            Harman Example 2.3\n",
      "Harman74.cor            Harman Example 7.4\n",
      "Indometh                Pharmacokinetics of Indomethacin\n",
      "InsectSprays            Effectiveness of Insect Sprays\n",
      "JohnsonJohnson          Quarterly Earnings per Johnson & Johnson Share\n",
      "LakeHuron               Level of Lake Huron 1875-1972\n",
      "LifeCycleSavings        Intercountry Life-Cycle Savings Data\n",
      "Loblolly                Growth of Loblolly pine trees\n",
      "Nile                    Flow of the River Nile\n",
      "Orange                  Growth of Orange Trees\n",
      "OrchardSprays           Potency of Orchard Sprays\n",
      "PlantGrowth             Results from an Experiment on Plant Growth\n",
      "Puromycin               Reaction Velocity of an Enzymatic Reaction\n",
      "Seatbelts               Road Casualties in Great Britain 1969-84\n",
      "Theoph                  Pharmacokinetics of Theophylline\n",
      "Titanic                 Survival of passengers on the Titanic\n",
      "ToothGrowth             The Effect of Vitamin C on Tooth Growth in\n",
      "                        Guinea Pigs\n",
      "UCBAdmissions           Student Admissions at UC Berkeley\n",
      "UKDriverDeaths          Road Casualties in Great Britain 1969-84\n",
      "UKgas                   UK Quarterly Gas Consumption\n",
      "USAccDeaths             Accidental Deaths in the US 1973-1978\n",
      "USArrests               Violent Crime Rates by US State\n",
      "USJudgeRatings          Lawyers' Ratings of State Judges in the US\n",
      "                        Superior Court\n",
      "USPersonalExpenditure   Personal Expenditure Data\n",
      "UScitiesD               Distances Between European Cities and Between\n",
      "                        US Cities\n",
      "VADeaths                Death Rates in Virginia (1940)\n",
      "WWWusage                Internet Usage per Minute\n",
      "WorldPhones             The World's Telephones\n",
      "ability.cov             Ability and Intelligence Tests\n",
      "airmiles                Passenger Miles on Commercial US Airlines,\n",
      "                        1937-1960\n",
      "airquality              New York Air Quality Measurements\n",
      "anscombe                Anscombe's Quartet of 'Identical' Simple Linear\n",
      "                        Regressions\n",
      "attenu                  The Joyner-Boore Attenuation Data\n",
      "attitude                The Chatterjee-Price Attitude Data\n",
      "austres                 Quarterly Time Series of the Number of\n",
      "                        Australian Residents\n",
      "beaver1 (beavers)       Body Temperature Series of Two Beavers\n",
      "beaver2 (beavers)       Body Temperature Series of Two Beavers\n",
      "cars                    Speed and Stopping Distances of Cars\n",
      "chickwts                Chicken Weights by Feed Type\n",
      "co2                     Mauna Loa Atmospheric CO2 Concentration\n",
      "crimtab                 Student's 3000 Criminals Data\n",
      "discoveries             Yearly Numbers of Important Discoveries\n",
      "esoph                   Smoking, Alcohol and (O)esophageal Cancer\n",
      "euro                    Conversion Rates of Euro Currencies\n",
      "euro.cross (euro)       Conversion Rates of Euro Currencies\n",
      "eurodist                Distances Between European Cities and Between\n",
      "                        US Cities\n",
      "faithful                Old Faithful Geyser Data\n",
      "fdeaths (UKLungDeaths)\n",
      "                        Monthly Deaths from Lung Diseases in the UK\n",
      "freeny                  Freeny's Revenue Data\n",
      "freeny.x (freeny)       Freeny's Revenue Data\n",
      "freeny.y (freeny)       Freeny's Revenue Data\n",
      "infert                  Infertility after Spontaneous and Induced\n",
      "                        Abortion\n",
      "iris                    Edgar Anderson's Iris Data\n",
      "iris3                   Edgar Anderson's Iris Data\n",
      "islands                 Areas of the World's Major Landmasses\n",
      "ldeaths (UKLungDeaths)\n",
      "                        Monthly Deaths from Lung Diseases in the UK\n",
      "lh                      Luteinizing Hormone in Blood Samples\n",
      "longley                 Longley's Economic Regression Data\n",
      "lynx                    Annual Canadian Lynx trappings 1821-1934\n",
      "mdeaths (UKLungDeaths)\n",
      "                        Monthly Deaths from Lung Diseases in the UK\n",
      "morley                  Michelson Speed of Light Data\n",
      "mtcars                  Motor Trend Car Road Tests\n",
      "nhtemp                  Average Yearly Temperatures in New Haven\n",
      "nottem                  Average Monthly Temperatures at Nottingham,\n",
      "                        1920-1939\n",
      "npk                     Classical N, P, K Factorial Experiment\n",
      "occupationalStatus      Occupational Status of Fathers and their Sons\n",
      "precip                  Annual Precipitation in US Cities\n",
      "presidents              Quarterly Approval Ratings of US Presidents\n",
      "pressure                Vapor Pressure of Mercury as a Function of\n",
      "                        Temperature\n",
      "quakes                  Locations of Earthquakes off Fiji\n",
      "randu                   Random Numbers from Congruential Generator\n",
      "                        RANDU\n",
      "rivers                  Lengths of Major North American Rivers\n",
      "rock                    Measurements on Petroleum Rock Samples\n",
      "sleep                   Student's Sleep Data\n",
      "stack.loss (stackloss)\n",
      "                        Brownlee's Stack Loss Plant Data\n",
      "stack.x (stackloss)     Brownlee's Stack Loss Plant Data\n",
      "stackloss               Brownlee's Stack Loss Plant Data\n",
      "state.abb (state)       US State Facts and Figures\n",
      "state.area (state)      US State Facts and Figures\n",
      "state.center (state)    US State Facts and Figures\n",
      "state.division (state)\n",
      "                        US State Facts and Figures\n",
      "state.name (state)      US State Facts and Figures\n",
      "state.region (state)    US State Facts and Figures\n",
      "state.x77 (state)       US State Facts and Figures\n",
      "sunspot.month           Monthly Sunspot Data, from 1749 to \"Present\"\n",
      "sunspot.year            Yearly Sunspot Data, 1700-1988\n",
      "sunspots                Monthly Sunspot Numbers, 1749-1983\n",
      "swiss                   Swiss Fertility and Socioeconomic Indicators\n",
      "                        (1888) Data\n",
      "treering                Yearly Treering Data, -6000-1979\n",
      "trees                   Diameter, Height and Volume for Black Cherry\n",
      "                        Trees\n",
      "uspop                   Populations Recorded by the US Census\n",
      "volcano                 Topographic Information on Auckland's Maunga\n",
      "                        Whau Volcano\n",
      "warpbreaks              The Number of Breaks in Yarn during Weaving\n",
      "women                   Average Heights and Weights for American Women\n",
      "Data sets in package 'dplyr':\n",
      "\n",
      "band_instruments        Band membership\n",
      "band_instruments2       Band membership\n",
      "band_members            Band membership\n",
      "starwars                Starwars characters\n",
      "storms                  Storm tracks data\n",
      "Data sets in package 'forcats':\n",
      "\n",
      "gss_cat                 A sample of categorical variables from the\n",
      "                        General Social survey\n",
      "Data sets in package 'ggplot2':\n",
      "\n",
      "diamonds                Prices of over 50,000 round cut diamonds\n",
      "economics               US economic time series\n",
      "economics_long          US economic time series\n",
      "faithfuld               2d density estimate of Old Faithful data\n",
      "luv_colours             'colors()' in Luv space\n",
      "midwest                 Midwest demographics\n",
      "mpg                     Fuel economy data from 1999 to 2008 for 38\n",
      "                        popular models of cars\n",
      "msleep                  An updated and expanded version of the mammals\n",
      "                        sleep dataset\n",
      "presidential            Terms of 12 presidents from Eisenhower to Trump\n",
      "seals                   Vector field of seal movements\n",
      "txhousing               Housing sales in TX\n",
      "Data sets in package 'lubridate':\n",
      "\n",
      "lakers                  Lakers 2008-2009 basketball data set\n",
      "Data sets in package 'stringr':\n",
      "\n",
      "fruit                   Sample character vectors for practicing string\n",
      "                        manipulations\n",
      "sentences               Sample character vectors for practicing string\n",
      "                        manipulations\n",
      "words                   Sample character vectors for practicing string\n",
      "                        manipulations\n",
      "Data sets in package 'tidyr':\n",
      "\n",
      "billboard               Song rankings for Billboard top 100 in the year\n",
      "                        2000\n",
      "cms_patient_care        Data from the Centers for Medicare & Medicaid\n",
      "                        Services\n",
      "cms_patient_experience\n",
      "                        Data from the Centers for Medicare & Medicaid\n",
      "                        Services\n",
      "construction            Completed construction in the US in 2018\n",
      "fish_encounters         Fish encounters\n",
      "household               Household data\n",
      "population              World Health Organization TB data\n",
      "relig_income            Pew religion and income survey\n",
      "smiths                  Some data about the Smith family\n",
      "table1                  Example tabular representations\n",
      "table2                  Example tabular representations\n",
      "table3                  Example tabular representations\n",
      "table4a                 Example tabular representations\n",
      "table4b                 Example tabular representations\n",
      "table5                  Example tabular representations\n",
      "us_rent_income          US rent and income data\n",
      "who                     World Health Organization TB data\n",
      "who2                    World Health Organization TB data\n",
      "world_bank_pop          Population data from the world bank\n",
      "\n",
      "Use 'data(package = .packages(all.available = TRUE))'\n",
      "to list the data sets in all *available* packages."
     ]
    }
   ],
   "source": [
    "data()"
   ]
  },
  {
   "cell_type": "markdown",
   "metadata": {},
   "source": [
    "# **MPG Dataset**"
   ]
  },
  {
   "cell_type": "code",
   "execution_count": 39,
   "metadata": {
    "vscode": {
     "languageId": "r"
    }
   },
   "outputs": [
    {
     "data": {
      "text/html": [
       "<table class=\"dataframe\">\n",
       "<caption>A tibble: 6 × 11</caption>\n",
       "<thead>\n",
       "\t<tr><th scope=col>manufacturer</th><th scope=col>model</th><th scope=col>displ</th><th scope=col>year</th><th scope=col>cyl</th><th scope=col>trans</th><th scope=col>drv</th><th scope=col>cty</th><th scope=col>hwy</th><th scope=col>fl</th><th scope=col>class</th></tr>\n",
       "\t<tr><th scope=col>&lt;chr&gt;</th><th scope=col>&lt;chr&gt;</th><th scope=col>&lt;dbl&gt;</th><th scope=col>&lt;int&gt;</th><th scope=col>&lt;int&gt;</th><th scope=col>&lt;chr&gt;</th><th scope=col>&lt;chr&gt;</th><th scope=col>&lt;int&gt;</th><th scope=col>&lt;int&gt;</th><th scope=col>&lt;chr&gt;</th><th scope=col>&lt;chr&gt;</th></tr>\n",
       "</thead>\n",
       "<tbody>\n",
       "\t<tr><td>audi</td><td>a4</td><td>1.8</td><td>1999</td><td>4</td><td>auto(l5)  </td><td>f</td><td>18</td><td>29</td><td>p</td><td>compact</td></tr>\n",
       "\t<tr><td>audi</td><td>a4</td><td>1.8</td><td>1999</td><td>4</td><td>manual(m5)</td><td>f</td><td>21</td><td>29</td><td>p</td><td>compact</td></tr>\n",
       "\t<tr><td>audi</td><td>a4</td><td>2.0</td><td>2008</td><td>4</td><td>manual(m6)</td><td>f</td><td>20</td><td>31</td><td>p</td><td>compact</td></tr>\n",
       "\t<tr><td>audi</td><td>a4</td><td>2.0</td><td>2008</td><td>4</td><td>auto(av)  </td><td>f</td><td>21</td><td>30</td><td>p</td><td>compact</td></tr>\n",
       "\t<tr><td>audi</td><td>a4</td><td>2.8</td><td>1999</td><td>6</td><td>auto(l5)  </td><td>f</td><td>16</td><td>26</td><td>p</td><td>compact</td></tr>\n",
       "\t<tr><td>audi</td><td>a4</td><td>2.8</td><td>1999</td><td>6</td><td>manual(m5)</td><td>f</td><td>18</td><td>26</td><td>p</td><td>compact</td></tr>\n",
       "</tbody>\n",
       "</table>\n"
      ],
      "text/latex": [
       "A tibble: 6 × 11\n",
       "\\begin{tabular}{lllllllllll}\n",
       " manufacturer & model & displ & year & cyl & trans & drv & cty & hwy & fl & class\\\\\n",
       " <chr> & <chr> & <dbl> & <int> & <int> & <chr> & <chr> & <int> & <int> & <chr> & <chr>\\\\\n",
       "\\hline\n",
       "\t audi & a4 & 1.8 & 1999 & 4 & auto(l5)   & f & 18 & 29 & p & compact\\\\\n",
       "\t audi & a4 & 1.8 & 1999 & 4 & manual(m5) & f & 21 & 29 & p & compact\\\\\n",
       "\t audi & a4 & 2.0 & 2008 & 4 & manual(m6) & f & 20 & 31 & p & compact\\\\\n",
       "\t audi & a4 & 2.0 & 2008 & 4 & auto(av)   & f & 21 & 30 & p & compact\\\\\n",
       "\t audi & a4 & 2.8 & 1999 & 6 & auto(l5)   & f & 16 & 26 & p & compact\\\\\n",
       "\t audi & a4 & 2.8 & 1999 & 6 & manual(m5) & f & 18 & 26 & p & compact\\\\\n",
       "\\end{tabular}\n"
      ],
      "text/markdown": [
       "\n",
       "A tibble: 6 × 11\n",
       "\n",
       "| manufacturer &lt;chr&gt; | model &lt;chr&gt; | displ &lt;dbl&gt; | year &lt;int&gt; | cyl &lt;int&gt; | trans &lt;chr&gt; | drv &lt;chr&gt; | cty &lt;int&gt; | hwy &lt;int&gt; | fl &lt;chr&gt; | class &lt;chr&gt; |\n",
       "|---|---|---|---|---|---|---|---|---|---|---|\n",
       "| audi | a4 | 1.8 | 1999 | 4 | auto(l5)   | f | 18 | 29 | p | compact |\n",
       "| audi | a4 | 1.8 | 1999 | 4 | manual(m5) | f | 21 | 29 | p | compact |\n",
       "| audi | a4 | 2.0 | 2008 | 4 | manual(m6) | f | 20 | 31 | p | compact |\n",
       "| audi | a4 | 2.0 | 2008 | 4 | auto(av)   | f | 21 | 30 | p | compact |\n",
       "| audi | a4 | 2.8 | 1999 | 6 | auto(l5)   | f | 16 | 26 | p | compact |\n",
       "| audi | a4 | 2.8 | 1999 | 6 | manual(m5) | f | 18 | 26 | p | compact |\n",
       "\n"
      ],
      "text/plain": [
       "  manufacturer model displ year cyl trans      drv cty hwy fl class  \n",
       "1 audi         a4    1.8   1999 4   auto(l5)   f   18  29  p  compact\n",
       "2 audi         a4    1.8   1999 4   manual(m5) f   21  29  p  compact\n",
       "3 audi         a4    2.0   2008 4   manual(m6) f   20  31  p  compact\n",
       "4 audi         a4    2.0   2008 4   auto(av)   f   21  30  p  compact\n",
       "5 audi         a4    2.8   1999 6   auto(l5)   f   16  26  p  compact\n",
       "6 audi         a4    2.8   1999 6   manual(m5) f   18  26  p  compact"
      ]
     },
     "metadata": {},
     "output_type": "display_data"
    }
   ],
   "source": [
    "head(mpg)"
   ]
  },
  {
   "cell_type": "markdown",
   "metadata": {},
   "source": [
    "## **Dataset Info**"
   ]
  },
  {
   "cell_type": "code",
   "execution_count": 40,
   "metadata": {
    "vscode": {
     "languageId": "r"
    }
   },
   "outputs": [
    {
     "name": "stdout",
     "output_type": "stream",
     "text": [
      "mpg                  package:ggplot2                   R Documentation\n",
      "\n",
      "_\bF_\bu_\be_\bl _\be_\bc_\bo_\bn_\bo_\bm_\by _\bd_\ba_\bt_\ba _\bf_\br_\bo_\bm _\b1_\b9_\b9_\b9 _\bt_\bo _\b2_\b0_\b0_\b8 _\bf_\bo_\br _\b3_\b8 _\bp_\bo_\bp_\bu_\bl_\ba_\br _\bm_\bo_\bd_\be_\bl_\bs _\bo_\bf _\bc_\ba_\br_\bs\n",
      "\n",
      "_\bD_\be_\bs_\bc_\br_\bi_\bp_\bt_\bi_\bo_\bn:\n",
      "\n",
      "     This dataset contains a subset of the fuel economy data that the\n",
      "     EPA makes available on <https://fueleconomy.gov/>. It contains\n",
      "     only models which had a new release every year between 1999 and\n",
      "     2008 - this was used as a proxy for the popularity of the car.\n",
      "\n",
      "_\bU_\bs_\ba_\bg_\be:\n",
      "\n",
      "     mpg\n",
      "     \n",
      "_\bF_\bo_\br_\bm_\ba_\bt:\n",
      "\n",
      "     A data frame with 234 rows and 11 variables:\n",
      "\n",
      "     manufacturer manufacturer name\n",
      "\n",
      "     model model name\n",
      "\n",
      "     displ engine displacement, in litres\n",
      "\n",
      "     year year of manufacture\n",
      "\n",
      "     cyl number of cylinders\n",
      "\n",
      "     trans type of transmission\n",
      "\n",
      "     drv the type of drive train, where f = front-wheel drive, r = rear\n",
      "          wheel drive, 4 = 4wd\n",
      "\n",
      "     cty city miles per gallon\n",
      "\n",
      "     hwy highway miles per gallon\n",
      "\n",
      "     fl fuel type\n",
      "\n",
      "     class \"type\" of car\n"
     ]
    }
   ],
   "source": [
    "# Dataset Info\n",
    "?mpg"
   ]
  },
  {
   "cell_type": "markdown",
   "metadata": {},
   "source": [
    "## **Shape**"
   ]
  },
  {
   "cell_type": "code",
   "execution_count": 48,
   "metadata": {
    "vscode": {
     "languageId": "r"
    }
   },
   "outputs": [
    {
     "data": {
      "text/html": [
       "<style>\n",
       ".list-inline {list-style: none; margin:0; padding: 0}\n",
       ".list-inline>li {display: inline-block}\n",
       ".list-inline>li:not(:last-child)::after {content: \"\\00b7\"; padding: 0 .5ex}\n",
       "</style>\n",
       "<ol class=list-inline><li>234</li><li>11</li></ol>\n"
      ],
      "text/latex": [
       "\\begin{enumerate*}\n",
       "\\item 234\n",
       "\\item 11\n",
       "\\end{enumerate*}\n"
      ],
      "text/markdown": [
       "1. 234\n",
       "2. 11\n",
       "\n",
       "\n"
      ],
      "text/plain": [
       "[1] 234  11"
      ]
     },
     "metadata": {},
     "output_type": "display_data"
    }
   ],
   "source": [
    "dim(mpg)"
   ]
  },
  {
   "cell_type": "markdown",
   "metadata": {},
   "source": [
    "## **Dataset Glimpse**"
   ]
  },
  {
   "cell_type": "code",
   "execution_count": 42,
   "metadata": {
    "vscode": {
     "languageId": "r"
    }
   },
   "outputs": [
    {
     "name": "stdout",
     "output_type": "stream",
     "text": [
      "Rows: 234\n",
      "Columns: 11\n",
      "$ manufacturer \u001b[3m\u001b[90m<chr>\u001b[39m\u001b[23m \"audi\", \"audi\", \"audi\", \"audi\", \"audi\", \"audi\", \"audi\", \"…\n",
      "$ model        \u001b[3m\u001b[90m<chr>\u001b[39m\u001b[23m \"a4\", \"a4\", \"a4\", \"a4\", \"a4\", \"a4\", \"a4\", \"a4 quattro\", \"…\n",
      "$ displ        \u001b[3m\u001b[90m<dbl>\u001b[39m\u001b[23m 1.8, 1.8, 2.0, 2.0, 2.8, 2.8, 3.1, 1.8, 1.8, 2.0, 2.0, 2.…\n",
      "$ year         \u001b[3m\u001b[90m<int>\u001b[39m\u001b[23m 1999, 1999, 2008, 2008, 1999, 1999, 2008, 1999, 1999, 200…\n",
      "$ cyl          \u001b[3m\u001b[90m<int>\u001b[39m\u001b[23m 4, 4, 4, 4, 6, 6, 6, 4, 4, 4, 4, 6, 6, 6, 6, 6, 6, 8, 8, …\n",
      "$ trans        \u001b[3m\u001b[90m<chr>\u001b[39m\u001b[23m \"auto(l5)\", \"manual(m5)\", \"manual(m6)\", \"auto(av)\", \"auto…\n",
      "$ drv          \u001b[3m\u001b[90m<chr>\u001b[39m\u001b[23m \"f\", \"f\", \"f\", \"f\", \"f\", \"f\", \"f\", \"4\", \"4\", \"4\", \"4\", \"4…\n",
      "$ cty          \u001b[3m\u001b[90m<int>\u001b[39m\u001b[23m 18, 21, 20, 21, 16, 18, 18, 18, 16, 20, 19, 15, 17, 17, 1…\n",
      "$ hwy          \u001b[3m\u001b[90m<int>\u001b[39m\u001b[23m 29, 29, 31, 30, 26, 26, 27, 26, 25, 28, 27, 25, 25, 25, 2…\n",
      "$ fl           \u001b[3m\u001b[90m<chr>\u001b[39m\u001b[23m \"p\", \"p\", \"p\", \"p\", \"p\", \"p\", \"p\", \"p\", \"p\", \"p\", \"p\", \"p…\n",
      "$ class        \u001b[3m\u001b[90m<chr>\u001b[39m\u001b[23m \"compact\", \"compact\", \"compact\", \"compact\", \"compact\", \"c…\n"
     ]
    }
   ],
   "source": [
    "glimpse(mpg)"
   ]
  },
  {
   "cell_type": "markdown",
   "metadata": {},
   "source": [
    "## **Filtering**"
   ]
  },
  {
   "cell_type": "code",
   "execution_count": 45,
   "metadata": {
    "vscode": {
     "languageId": "r"
    }
   },
   "outputs": [
    {
     "name": "stdout",
     "output_type": "stream",
     "text": [
      "filter                  package:dplyr                  R Documentation\n",
      "\n",
      "_\bK_\be_\be_\bp _\br_\bo_\bw_\bs _\bt_\bh_\ba_\bt _\bm_\ba_\bt_\bc_\bh _\ba _\bc_\bo_\bn_\bd_\bi_\bt_\bi_\bo_\bn\n",
      "\n",
      "_\bD_\be_\bs_\bc_\br_\bi_\bp_\bt_\bi_\bo_\bn:\n",
      "\n",
      "     The 'filter()' function is used to subset a data frame, retaining\n",
      "     all rows that satisfy your conditions. To be retained, the row\n",
      "     must produce a value of 'TRUE' for all conditions. Note that when\n",
      "     a condition evaluates to 'NA' the row will be dropped, unlike base\n",
      "     subsetting with '['.\n",
      "\n",
      "_\bU_\bs_\ba_\bg_\be:\n",
      "\n",
      "     filter(.data, ..., .by = NULL, .preserve = FALSE)\n",
      "     \n",
      "_\bA_\br_\bg_\bu_\bm_\be_\bn_\bt_\bs:\n",
      "\n",
      "   .data: A data frame, data frame extension (e.g. a tibble), or a lazy\n",
      "          data frame (e.g. from dbplyr or dtplyr). See _Methods_,\n",
      "          below, for more details.\n",
      "\n",
      "     ...: <'data-masking'> Expressions that return a logical value, and\n",
      "          are defined in terms of the variables in '.data'. If multiple\n",
      "          expressions are included, they are combined with the '&'\n",
      "          operator. Only rows for which all conditions evaluate to\n",
      "          'TRUE' are kept.\n",
      "\n",
      "     .by: *[Experimental]*\n",
      "\n",
      "          <'tidy-select'> Optionally, a selection of columns to group\n",
      "          by for just this operation, functioning as an alternative to\n",
      "          'group_by()'. For details and examples, see ?dplyr_by.\n",
      "\n",
      ".preserve: Relevant when the '.data' input is grouped. If '.preserve =\n",
      "          FALSE' (the default), the grouping structure is recalculated\n",
      "          based on the resulting data, otherwise the grouping is kept\n",
      "          as is.\n",
      "\n",
      "_\bD_\be_\bt_\ba_\bi_\bl_\bs:\n",
      "\n",
      "     The 'filter()' function is used to subset the rows of '.data',\n",
      "     applying the expressions in '...' to the column values to\n",
      "     determine which rows should be retained. It can be applied to both\n",
      "     grouped and ungrouped data (see 'group_by()' and 'ungroup()').\n",
      "     However, dplyr is not yet smart enough to optimise the filtering\n",
      "     operation on grouped datasets that do not need grouped\n",
      "     calculations. For this reason, filtering is often considerably\n",
      "     faster on ungrouped data.\n",
      "\n",
      "_\bV_\ba_\bl_\bu_\be:\n",
      "\n",
      "     An object of the same type as '.data'. The output has the\n",
      "     following properties:\n",
      "\n",
      "        * Rows are a subset of the input, but appear in the same order.\n",
      "\n",
      "        * Columns are not modified.\n",
      "\n",
      "        * The number of groups may be reduced (if '.preserve' is not\n",
      "          'TRUE').\n",
      "\n",
      "        * Data frame attributes are preserved.\n",
      "\n",
      "_\bU_\bs_\be_\bf_\bu_\bl _\bf_\bi_\bl_\bt_\be_\br _\bf_\bu_\bn_\bc_\bt_\bi_\bo_\bn_\bs:\n",
      "\n",
      "     There are many functions and operators that are useful when\n",
      "     constructing the expressions used to filter the data:\n",
      "\n",
      "        * '==', '>', '>=' etc\n",
      "\n",
      "        * '&', '|', '!', 'xor()'\n",
      "\n",
      "        * 'is.na()'\n",
      "\n",
      "        * 'between()', 'near()'\n",
      "\n",
      "_\bG_\br_\bo_\bu_\bp_\be_\bd _\bt_\bi_\bb_\bb_\bl_\be_\bs:\n",
      "\n",
      "     Because filtering expressions are computed within groups, they may\n",
      "     yield different results on grouped tibbles. This will be the case\n",
      "     as soon as an aggregating, lagging, or ranking function is\n",
      "     involved. Compare this ungrouped filtering:\n",
      "\n",
      "     starwars %>% filter(mass > mean(mass, na.rm = TRUE))\n",
      "     \n",
      "     With the grouped equivalent:\n",
      "\n",
      "     starwars %>% group_by(gender) %>% filter(mass > mean(mass, na.rm = TRUE))\n",
      "     \n",
      "     In the ungrouped version, 'filter()' compares the value of 'mass'\n",
      "     in each row to the global average (taken over the whole data set),\n",
      "     keeping only the rows with 'mass' greater than this global\n",
      "     average. In contrast, the grouped version calculates the average\n",
      "     mass separately for each 'gender' group, and keeps rows with\n",
      "     'mass' greater than the relevant within-gender average.\n",
      "\n",
      "_\bM_\be_\bt_\bh_\bo_\bd_\bs:\n",
      "\n",
      "     This function is a *generic*, which means that packages can\n",
      "     provide implementations (methods) for other classes. See the\n",
      "     documentation of individual methods for extra arguments and\n",
      "     differences in behaviour.\n",
      "\n",
      "     The following methods are currently available in loaded packages:\n",
      "     dplyr ('data.frame', 'ts').\n",
      "\n",
      "_\bS_\be_\be _\bA_\bl_\bs_\bo:\n",
      "\n",
      "     Other single table verbs: 'arrange()', 'mutate()', 'reframe()',\n",
      "     'rename()', 'select()', 'slice()', 'summarise()'\n",
      "\n",
      "_\bE_\bx_\ba_\bm_\bp_\bl_\be_\bs:\n",
      "\n",
      "     # Filtering by one criterion\n",
      "     filter(starwars, species == \"Human\")\n",
      "     filter(starwars, mass > 1000)\n",
      "     \n",
      "     # Filtering by multiple criteria within a single logical expression\n",
      "     filter(starwars, hair_color == \"none\" & eye_color == \"black\")\n",
      "     filter(starwars, hair_color == \"none\" | eye_color == \"black\")\n",
      "     \n",
      "     # When multiple expressions are used, they are combined using &\n",
      "     filter(starwars, hair_color == \"none\", eye_color == \"black\")\n",
      "     \n",
      "     \n",
      "     # The filtering operation may yield different results on grouped\n",
      "     # tibbles because the expressions are computed within groups.\n",
      "     #\n",
      "     # The following filters rows where `mass` is greater than the\n",
      "     # global average:\n",
      "     starwars %>% filter(mass > mean(mass, na.rm = TRUE))\n",
      "     \n",
      "     # Whereas this keeps rows with `mass` greater than the gender\n",
      "     # average:\n",
      "     starwars %>% group_by(gender) %>% filter(mass > mean(mass, na.rm = TRUE))\n",
      "     \n",
      "     \n",
      "     # To refer to column names that are stored as strings, use the `.data` pronoun:\n",
      "     vars <- c(\"mass\", \"height\")\n",
      "     cond <- c(80, 150)\n",
      "     starwars %>%\n",
      "       filter(\n",
      "         .data[[vars[[1]]]] > cond[[1]],\n",
      "         .data[[vars[[2]]]] > cond[[2]]\n",
      "       )\n",
      "     # Learn more in ?rlang::args_data_masking\n",
      "     "
     ]
    }
   ],
   "source": [
    "help(filter)"
   ]
  },
  {
   "cell_type": "code",
   "execution_count": 49,
   "metadata": {
    "vscode": {
     "languageId": "r"
    }
   },
   "outputs": [
    {
     "data": {
      "text/html": [
       "<table class=\"dataframe\">\n",
       "<caption>A tibble: 56 × 11</caption>\n",
       "<thead>\n",
       "\t<tr><th scope=col>manufacturer</th><th scope=col>model</th><th scope=col>displ</th><th scope=col>year</th><th scope=col>cyl</th><th scope=col>trans</th><th scope=col>drv</th><th scope=col>cty</th><th scope=col>hwy</th><th scope=col>fl</th><th scope=col>class</th></tr>\n",
       "\t<tr><th scope=col>&lt;chr&gt;</th><th scope=col>&lt;chr&gt;</th><th scope=col>&lt;dbl&gt;</th><th scope=col>&lt;int&gt;</th><th scope=col>&lt;int&gt;</th><th scope=col>&lt;chr&gt;</th><th scope=col>&lt;chr&gt;</th><th scope=col>&lt;int&gt;</th><th scope=col>&lt;int&gt;</th><th scope=col>&lt;chr&gt;</th><th scope=col>&lt;chr&gt;</th></tr>\n",
       "</thead>\n",
       "<tbody>\n",
       "\t<tr><td>audi      </td><td>a4          </td><td>1.8</td><td>1999</td><td>4</td><td>manual(m5)</td><td>f</td><td>21</td><td>29</td><td>p</td><td>compact   </td></tr>\n",
       "\t<tr><td>audi      </td><td>a4          </td><td>2.0</td><td>2008</td><td>4</td><td>manual(m6)</td><td>f</td><td>20</td><td>31</td><td>p</td><td>compact   </td></tr>\n",
       "\t<tr><td>audi      </td><td>a4          </td><td>2.0</td><td>2008</td><td>4</td><td>auto(av)  </td><td>f</td><td>21</td><td>30</td><td>p</td><td>compact   </td></tr>\n",
       "\t<tr><td>audi      </td><td>a4 quattro  </td><td>2.0</td><td>2008</td><td>4</td><td>manual(m6)</td><td>4</td><td>20</td><td>28</td><td>p</td><td>compact   </td></tr>\n",
       "\t<tr><td>chevrolet </td><td>malibu      </td><td>2.4</td><td>2008</td><td>4</td><td>auto(l4)  </td><td>f</td><td>22</td><td>30</td><td>r</td><td>midsize   </td></tr>\n",
       "\t<tr><td>honda     </td><td>civic       </td><td>1.6</td><td>1999</td><td>4</td><td>manual(m5)</td><td>f</td><td>28</td><td>33</td><td>r</td><td>subcompact</td></tr>\n",
       "\t<tr><td>honda     </td><td>civic       </td><td>1.6</td><td>1999</td><td>4</td><td>auto(l4)  </td><td>f</td><td>24</td><td>32</td><td>r</td><td>subcompact</td></tr>\n",
       "\t<tr><td>honda     </td><td>civic       </td><td>1.6</td><td>1999</td><td>4</td><td>manual(m5)</td><td>f</td><td>25</td><td>32</td><td>r</td><td>subcompact</td></tr>\n",
       "\t<tr><td>honda     </td><td>civic       </td><td>1.6</td><td>1999</td><td>4</td><td>manual(m5)</td><td>f</td><td>23</td><td>29</td><td>p</td><td>subcompact</td></tr>\n",
       "\t<tr><td>honda     </td><td>civic       </td><td>1.6</td><td>1999</td><td>4</td><td>auto(l4)  </td><td>f</td><td>24</td><td>32</td><td>r</td><td>subcompact</td></tr>\n",
       "\t<tr><td>honda     </td><td>civic       </td><td>1.8</td><td>2008</td><td>4</td><td>manual(m5)</td><td>f</td><td>26</td><td>34</td><td>r</td><td>subcompact</td></tr>\n",
       "\t<tr><td>honda     </td><td>civic       </td><td>1.8</td><td>2008</td><td>4</td><td>auto(l5)  </td><td>f</td><td>25</td><td>36</td><td>r</td><td>subcompact</td></tr>\n",
       "\t<tr><td>honda     </td><td>civic       </td><td>1.8</td><td>2008</td><td>4</td><td>auto(l5)  </td><td>f</td><td>24</td><td>36</td><td>c</td><td>subcompact</td></tr>\n",
       "\t<tr><td>honda     </td><td>civic       </td><td>2.0</td><td>2008</td><td>4</td><td>manual(m6)</td><td>f</td><td>21</td><td>29</td><td>p</td><td>subcompact</td></tr>\n",
       "\t<tr><td>hyundai   </td><td>sonata      </td><td>2.4</td><td>2008</td><td>4</td><td>auto(l4)  </td><td>f</td><td>21</td><td>30</td><td>r</td><td>midsize   </td></tr>\n",
       "\t<tr><td>hyundai   </td><td>sonata      </td><td>2.4</td><td>2008</td><td>4</td><td>manual(m5)</td><td>f</td><td>21</td><td>31</td><td>r</td><td>midsize   </td></tr>\n",
       "\t<tr><td>hyundai   </td><td>tiburon     </td><td>2.0</td><td>2008</td><td>4</td><td>manual(m5)</td><td>f</td><td>20</td><td>28</td><td>r</td><td>subcompact</td></tr>\n",
       "\t<tr><td>hyundai   </td><td>tiburon     </td><td>2.0</td><td>2008</td><td>4</td><td>auto(l4)  </td><td>f</td><td>20</td><td>27</td><td>r</td><td>subcompact</td></tr>\n",
       "\t<tr><td>nissan    </td><td>altima      </td><td>2.4</td><td>1999</td><td>4</td><td>manual(m5)</td><td>f</td><td>21</td><td>29</td><td>r</td><td>compact   </td></tr>\n",
       "\t<tr><td>nissan    </td><td>altima      </td><td>2.5</td><td>2008</td><td>4</td><td>auto(av)  </td><td>f</td><td>23</td><td>31</td><td>r</td><td>midsize   </td></tr>\n",
       "\t<tr><td>nissan    </td><td>altima      </td><td>2.5</td><td>2008</td><td>4</td><td>manual(m6)</td><td>f</td><td>23</td><td>32</td><td>r</td><td>midsize   </td></tr>\n",
       "\t<tr><td>subaru    </td><td>forester awd</td><td>2.5</td><td>2008</td><td>4</td><td>manual(m5)</td><td>4</td><td>20</td><td>27</td><td>r</td><td>suv       </td></tr>\n",
       "\t<tr><td>subaru    </td><td>forester awd</td><td>2.5</td><td>2008</td><td>4</td><td>auto(l4)  </td><td>4</td><td>20</td><td>26</td><td>r</td><td>suv       </td></tr>\n",
       "\t<tr><td>subaru    </td><td>impreza awd </td><td>2.2</td><td>1999</td><td>4</td><td>auto(l4)  </td><td>4</td><td>21</td><td>26</td><td>r</td><td>subcompact</td></tr>\n",
       "\t<tr><td>subaru    </td><td>impreza awd </td><td>2.5</td><td>2008</td><td>4</td><td>auto(s4)  </td><td>4</td><td>20</td><td>25</td><td>p</td><td>compact   </td></tr>\n",
       "\t<tr><td>subaru    </td><td>impreza awd </td><td>2.5</td><td>2008</td><td>4</td><td>auto(s4)  </td><td>4</td><td>20</td><td>27</td><td>r</td><td>compact   </td></tr>\n",
       "\t<tr><td>subaru    </td><td>impreza awd </td><td>2.5</td><td>2008</td><td>4</td><td>manual(m5)</td><td>4</td><td>20</td><td>27</td><td>r</td><td>compact   </td></tr>\n",
       "\t<tr><td>toyota    </td><td>camry       </td><td>2.2</td><td>1999</td><td>4</td><td>manual(m5)</td><td>f</td><td>21</td><td>29</td><td>r</td><td>midsize   </td></tr>\n",
       "\t<tr><td>toyota    </td><td>camry       </td><td>2.2</td><td>1999</td><td>4</td><td>auto(l4)  </td><td>f</td><td>21</td><td>27</td><td>r</td><td>midsize   </td></tr>\n",
       "\t<tr><td>toyota    </td><td>camry       </td><td>2.4</td><td>2008</td><td>4</td><td>manual(m5)</td><td>f</td><td>21</td><td>31</td><td>r</td><td>midsize   </td></tr>\n",
       "\t<tr><td>toyota    </td><td>camry       </td><td>2.4</td><td>2008</td><td>4</td><td>auto(l5)  </td><td>f</td><td>21</td><td>31</td><td>r</td><td>midsize   </td></tr>\n",
       "\t<tr><td>toyota    </td><td>camry solara</td><td>2.2</td><td>1999</td><td>4</td><td>auto(l4)  </td><td>f</td><td>21</td><td>27</td><td>r</td><td>compact   </td></tr>\n",
       "\t<tr><td>toyota    </td><td>camry solara</td><td>2.2</td><td>1999</td><td>4</td><td>manual(m5)</td><td>f</td><td>21</td><td>29</td><td>r</td><td>compact   </td></tr>\n",
       "\t<tr><td>toyota    </td><td>camry solara</td><td>2.4</td><td>2008</td><td>4</td><td>manual(m5)</td><td>f</td><td>21</td><td>31</td><td>r</td><td>compact   </td></tr>\n",
       "\t<tr><td>toyota    </td><td>camry solara</td><td>2.4</td><td>2008</td><td>4</td><td>auto(s5)  </td><td>f</td><td>22</td><td>31</td><td>r</td><td>compact   </td></tr>\n",
       "\t<tr><td>toyota    </td><td>corolla     </td><td>1.8</td><td>1999</td><td>4</td><td>auto(l3)  </td><td>f</td><td>24</td><td>30</td><td>r</td><td>compact   </td></tr>\n",
       "\t<tr><td>toyota    </td><td>corolla     </td><td>1.8</td><td>1999</td><td>4</td><td>auto(l4)  </td><td>f</td><td>24</td><td>33</td><td>r</td><td>compact   </td></tr>\n",
       "\t<tr><td>toyota    </td><td>corolla     </td><td>1.8</td><td>1999</td><td>4</td><td>manual(m5)</td><td>f</td><td>26</td><td>35</td><td>r</td><td>compact   </td></tr>\n",
       "\t<tr><td>toyota    </td><td>corolla     </td><td>1.8</td><td>2008</td><td>4</td><td>manual(m5)</td><td>f</td><td>28</td><td>37</td><td>r</td><td>compact   </td></tr>\n",
       "\t<tr><td>toyota    </td><td>corolla     </td><td>1.8</td><td>2008</td><td>4</td><td>auto(l4)  </td><td>f</td><td>26</td><td>35</td><td>r</td><td>compact   </td></tr>\n",
       "\t<tr><td>volkswagen</td><td>gti         </td><td>2.0</td><td>1999</td><td>4</td><td>manual(m5)</td><td>f</td><td>21</td><td>29</td><td>r</td><td>compact   </td></tr>\n",
       "\t<tr><td>volkswagen</td><td>gti         </td><td>2.0</td><td>2008</td><td>4</td><td>manual(m6)</td><td>f</td><td>21</td><td>29</td><td>p</td><td>compact   </td></tr>\n",
       "\t<tr><td>volkswagen</td><td>gti         </td><td>2.0</td><td>2008</td><td>4</td><td>auto(s6)  </td><td>f</td><td>22</td><td>29</td><td>p</td><td>compact   </td></tr>\n",
       "\t<tr><td>volkswagen</td><td>jetta       </td><td>1.9</td><td>1999</td><td>4</td><td>manual(m5)</td><td>f</td><td>33</td><td>44</td><td>d</td><td>compact   </td></tr>\n",
       "\t<tr><td>volkswagen</td><td>jetta       </td><td>2.0</td><td>1999</td><td>4</td><td>manual(m5)</td><td>f</td><td>21</td><td>29</td><td>r</td><td>compact   </td></tr>\n",
       "\t<tr><td>volkswagen</td><td>jetta       </td><td>2.0</td><td>2008</td><td>4</td><td>auto(s6)  </td><td>f</td><td>22</td><td>29</td><td>p</td><td>compact   </td></tr>\n",
       "\t<tr><td>volkswagen</td><td>jetta       </td><td>2.0</td><td>2008</td><td>4</td><td>manual(m6)</td><td>f</td><td>21</td><td>29</td><td>p</td><td>compact   </td></tr>\n",
       "\t<tr><td>volkswagen</td><td>jetta       </td><td>2.5</td><td>2008</td><td>5</td><td>auto(s6)  </td><td>f</td><td>21</td><td>29</td><td>r</td><td>compact   </td></tr>\n",
       "\t<tr><td>volkswagen</td><td>jetta       </td><td>2.5</td><td>2008</td><td>5</td><td>manual(m5)</td><td>f</td><td>21</td><td>29</td><td>r</td><td>compact   </td></tr>\n",
       "\t<tr><td>volkswagen</td><td>new beetle  </td><td>1.9</td><td>1999</td><td>4</td><td>manual(m5)</td><td>f</td><td>35</td><td>44</td><td>d</td><td>subcompact</td></tr>\n",
       "\t<tr><td>volkswagen</td><td>new beetle  </td><td>1.9</td><td>1999</td><td>4</td><td>auto(l4)  </td><td>f</td><td>29</td><td>41</td><td>d</td><td>subcompact</td></tr>\n",
       "\t<tr><td>volkswagen</td><td>new beetle  </td><td>2.0</td><td>1999</td><td>4</td><td>manual(m5)</td><td>f</td><td>21</td><td>29</td><td>r</td><td>subcompact</td></tr>\n",
       "\t<tr><td>volkswagen</td><td>new beetle  </td><td>2.5</td><td>2008</td><td>5</td><td>manual(m5)</td><td>f</td><td>20</td><td>28</td><td>r</td><td>subcompact</td></tr>\n",
       "\t<tr><td>volkswagen</td><td>new beetle  </td><td>2.5</td><td>2008</td><td>5</td><td>auto(s6)  </td><td>f</td><td>20</td><td>29</td><td>r</td><td>subcompact</td></tr>\n",
       "\t<tr><td>volkswagen</td><td>passat      </td><td>1.8</td><td>1999</td><td>4</td><td>manual(m5)</td><td>f</td><td>21</td><td>29</td><td>p</td><td>midsize   </td></tr>\n",
       "\t<tr><td>volkswagen</td><td>passat      </td><td>2.0</td><td>2008</td><td>4</td><td>manual(m6)</td><td>f</td><td>21</td><td>29</td><td>p</td><td>midsize   </td></tr>\n",
       "</tbody>\n",
       "</table>\n"
      ],
      "text/latex": [
       "A tibble: 56 × 11\n",
       "\\begin{tabular}{lllllllllll}\n",
       " manufacturer & model & displ & year & cyl & trans & drv & cty & hwy & fl & class\\\\\n",
       " <chr> & <chr> & <dbl> & <int> & <int> & <chr> & <chr> & <int> & <int> & <chr> & <chr>\\\\\n",
       "\\hline\n",
       "\t audi       & a4           & 1.8 & 1999 & 4 & manual(m5) & f & 21 & 29 & p & compact   \\\\\n",
       "\t audi       & a4           & 2.0 & 2008 & 4 & manual(m6) & f & 20 & 31 & p & compact   \\\\\n",
       "\t audi       & a4           & 2.0 & 2008 & 4 & auto(av)   & f & 21 & 30 & p & compact   \\\\\n",
       "\t audi       & a4 quattro   & 2.0 & 2008 & 4 & manual(m6) & 4 & 20 & 28 & p & compact   \\\\\n",
       "\t chevrolet  & malibu       & 2.4 & 2008 & 4 & auto(l4)   & f & 22 & 30 & r & midsize   \\\\\n",
       "\t honda      & civic        & 1.6 & 1999 & 4 & manual(m5) & f & 28 & 33 & r & subcompact\\\\\n",
       "\t honda      & civic        & 1.6 & 1999 & 4 & auto(l4)   & f & 24 & 32 & r & subcompact\\\\\n",
       "\t honda      & civic        & 1.6 & 1999 & 4 & manual(m5) & f & 25 & 32 & r & subcompact\\\\\n",
       "\t honda      & civic        & 1.6 & 1999 & 4 & manual(m5) & f & 23 & 29 & p & subcompact\\\\\n",
       "\t honda      & civic        & 1.6 & 1999 & 4 & auto(l4)   & f & 24 & 32 & r & subcompact\\\\\n",
       "\t honda      & civic        & 1.8 & 2008 & 4 & manual(m5) & f & 26 & 34 & r & subcompact\\\\\n",
       "\t honda      & civic        & 1.8 & 2008 & 4 & auto(l5)   & f & 25 & 36 & r & subcompact\\\\\n",
       "\t honda      & civic        & 1.8 & 2008 & 4 & auto(l5)   & f & 24 & 36 & c & subcompact\\\\\n",
       "\t honda      & civic        & 2.0 & 2008 & 4 & manual(m6) & f & 21 & 29 & p & subcompact\\\\\n",
       "\t hyundai    & sonata       & 2.4 & 2008 & 4 & auto(l4)   & f & 21 & 30 & r & midsize   \\\\\n",
       "\t hyundai    & sonata       & 2.4 & 2008 & 4 & manual(m5) & f & 21 & 31 & r & midsize   \\\\\n",
       "\t hyundai    & tiburon      & 2.0 & 2008 & 4 & manual(m5) & f & 20 & 28 & r & subcompact\\\\\n",
       "\t hyundai    & tiburon      & 2.0 & 2008 & 4 & auto(l4)   & f & 20 & 27 & r & subcompact\\\\\n",
       "\t nissan     & altima       & 2.4 & 1999 & 4 & manual(m5) & f & 21 & 29 & r & compact   \\\\\n",
       "\t nissan     & altima       & 2.5 & 2008 & 4 & auto(av)   & f & 23 & 31 & r & midsize   \\\\\n",
       "\t nissan     & altima       & 2.5 & 2008 & 4 & manual(m6) & f & 23 & 32 & r & midsize   \\\\\n",
       "\t subaru     & forester awd & 2.5 & 2008 & 4 & manual(m5) & 4 & 20 & 27 & r & suv       \\\\\n",
       "\t subaru     & forester awd & 2.5 & 2008 & 4 & auto(l4)   & 4 & 20 & 26 & r & suv       \\\\\n",
       "\t subaru     & impreza awd  & 2.2 & 1999 & 4 & auto(l4)   & 4 & 21 & 26 & r & subcompact\\\\\n",
       "\t subaru     & impreza awd  & 2.5 & 2008 & 4 & auto(s4)   & 4 & 20 & 25 & p & compact   \\\\\n",
       "\t subaru     & impreza awd  & 2.5 & 2008 & 4 & auto(s4)   & 4 & 20 & 27 & r & compact   \\\\\n",
       "\t subaru     & impreza awd  & 2.5 & 2008 & 4 & manual(m5) & 4 & 20 & 27 & r & compact   \\\\\n",
       "\t toyota     & camry        & 2.2 & 1999 & 4 & manual(m5) & f & 21 & 29 & r & midsize   \\\\\n",
       "\t toyota     & camry        & 2.2 & 1999 & 4 & auto(l4)   & f & 21 & 27 & r & midsize   \\\\\n",
       "\t toyota     & camry        & 2.4 & 2008 & 4 & manual(m5) & f & 21 & 31 & r & midsize   \\\\\n",
       "\t toyota     & camry        & 2.4 & 2008 & 4 & auto(l5)   & f & 21 & 31 & r & midsize   \\\\\n",
       "\t toyota     & camry solara & 2.2 & 1999 & 4 & auto(l4)   & f & 21 & 27 & r & compact   \\\\\n",
       "\t toyota     & camry solara & 2.2 & 1999 & 4 & manual(m5) & f & 21 & 29 & r & compact   \\\\\n",
       "\t toyota     & camry solara & 2.4 & 2008 & 4 & manual(m5) & f & 21 & 31 & r & compact   \\\\\n",
       "\t toyota     & camry solara & 2.4 & 2008 & 4 & auto(s5)   & f & 22 & 31 & r & compact   \\\\\n",
       "\t toyota     & corolla      & 1.8 & 1999 & 4 & auto(l3)   & f & 24 & 30 & r & compact   \\\\\n",
       "\t toyota     & corolla      & 1.8 & 1999 & 4 & auto(l4)   & f & 24 & 33 & r & compact   \\\\\n",
       "\t toyota     & corolla      & 1.8 & 1999 & 4 & manual(m5) & f & 26 & 35 & r & compact   \\\\\n",
       "\t toyota     & corolla      & 1.8 & 2008 & 4 & manual(m5) & f & 28 & 37 & r & compact   \\\\\n",
       "\t toyota     & corolla      & 1.8 & 2008 & 4 & auto(l4)   & f & 26 & 35 & r & compact   \\\\\n",
       "\t volkswagen & gti          & 2.0 & 1999 & 4 & manual(m5) & f & 21 & 29 & r & compact   \\\\\n",
       "\t volkswagen & gti          & 2.0 & 2008 & 4 & manual(m6) & f & 21 & 29 & p & compact   \\\\\n",
       "\t volkswagen & gti          & 2.0 & 2008 & 4 & auto(s6)   & f & 22 & 29 & p & compact   \\\\\n",
       "\t volkswagen & jetta        & 1.9 & 1999 & 4 & manual(m5) & f & 33 & 44 & d & compact   \\\\\n",
       "\t volkswagen & jetta        & 2.0 & 1999 & 4 & manual(m5) & f & 21 & 29 & r & compact   \\\\\n",
       "\t volkswagen & jetta        & 2.0 & 2008 & 4 & auto(s6)   & f & 22 & 29 & p & compact   \\\\\n",
       "\t volkswagen & jetta        & 2.0 & 2008 & 4 & manual(m6) & f & 21 & 29 & p & compact   \\\\\n",
       "\t volkswagen & jetta        & 2.5 & 2008 & 5 & auto(s6)   & f & 21 & 29 & r & compact   \\\\\n",
       "\t volkswagen & jetta        & 2.5 & 2008 & 5 & manual(m5) & f & 21 & 29 & r & compact   \\\\\n",
       "\t volkswagen & new beetle   & 1.9 & 1999 & 4 & manual(m5) & f & 35 & 44 & d & subcompact\\\\\n",
       "\t volkswagen & new beetle   & 1.9 & 1999 & 4 & auto(l4)   & f & 29 & 41 & d & subcompact\\\\\n",
       "\t volkswagen & new beetle   & 2.0 & 1999 & 4 & manual(m5) & f & 21 & 29 & r & subcompact\\\\\n",
       "\t volkswagen & new beetle   & 2.5 & 2008 & 5 & manual(m5) & f & 20 & 28 & r & subcompact\\\\\n",
       "\t volkswagen & new beetle   & 2.5 & 2008 & 5 & auto(s6)   & f & 20 & 29 & r & subcompact\\\\\n",
       "\t volkswagen & passat       & 1.8 & 1999 & 4 & manual(m5) & f & 21 & 29 & p & midsize   \\\\\n",
       "\t volkswagen & passat       & 2.0 & 2008 & 4 & manual(m6) & f & 21 & 29 & p & midsize   \\\\\n",
       "\\end{tabular}\n"
      ],
      "text/markdown": [
       "\n",
       "A tibble: 56 × 11\n",
       "\n",
       "| manufacturer &lt;chr&gt; | model &lt;chr&gt; | displ &lt;dbl&gt; | year &lt;int&gt; | cyl &lt;int&gt; | trans &lt;chr&gt; | drv &lt;chr&gt; | cty &lt;int&gt; | hwy &lt;int&gt; | fl &lt;chr&gt; | class &lt;chr&gt; |\n",
       "|---|---|---|---|---|---|---|---|---|---|---|\n",
       "| audi       | a4           | 1.8 | 1999 | 4 | manual(m5) | f | 21 | 29 | p | compact    |\n",
       "| audi       | a4           | 2.0 | 2008 | 4 | manual(m6) | f | 20 | 31 | p | compact    |\n",
       "| audi       | a4           | 2.0 | 2008 | 4 | auto(av)   | f | 21 | 30 | p | compact    |\n",
       "| audi       | a4 quattro   | 2.0 | 2008 | 4 | manual(m6) | 4 | 20 | 28 | p | compact    |\n",
       "| chevrolet  | malibu       | 2.4 | 2008 | 4 | auto(l4)   | f | 22 | 30 | r | midsize    |\n",
       "| honda      | civic        | 1.6 | 1999 | 4 | manual(m5) | f | 28 | 33 | r | subcompact |\n",
       "| honda      | civic        | 1.6 | 1999 | 4 | auto(l4)   | f | 24 | 32 | r | subcompact |\n",
       "| honda      | civic        | 1.6 | 1999 | 4 | manual(m5) | f | 25 | 32 | r | subcompact |\n",
       "| honda      | civic        | 1.6 | 1999 | 4 | manual(m5) | f | 23 | 29 | p | subcompact |\n",
       "| honda      | civic        | 1.6 | 1999 | 4 | auto(l4)   | f | 24 | 32 | r | subcompact |\n",
       "| honda      | civic        | 1.8 | 2008 | 4 | manual(m5) | f | 26 | 34 | r | subcompact |\n",
       "| honda      | civic        | 1.8 | 2008 | 4 | auto(l5)   | f | 25 | 36 | r | subcompact |\n",
       "| honda      | civic        | 1.8 | 2008 | 4 | auto(l5)   | f | 24 | 36 | c | subcompact |\n",
       "| honda      | civic        | 2.0 | 2008 | 4 | manual(m6) | f | 21 | 29 | p | subcompact |\n",
       "| hyundai    | sonata       | 2.4 | 2008 | 4 | auto(l4)   | f | 21 | 30 | r | midsize    |\n",
       "| hyundai    | sonata       | 2.4 | 2008 | 4 | manual(m5) | f | 21 | 31 | r | midsize    |\n",
       "| hyundai    | tiburon      | 2.0 | 2008 | 4 | manual(m5) | f | 20 | 28 | r | subcompact |\n",
       "| hyundai    | tiburon      | 2.0 | 2008 | 4 | auto(l4)   | f | 20 | 27 | r | subcompact |\n",
       "| nissan     | altima       | 2.4 | 1999 | 4 | manual(m5) | f | 21 | 29 | r | compact    |\n",
       "| nissan     | altima       | 2.5 | 2008 | 4 | auto(av)   | f | 23 | 31 | r | midsize    |\n",
       "| nissan     | altima       | 2.5 | 2008 | 4 | manual(m6) | f | 23 | 32 | r | midsize    |\n",
       "| subaru     | forester awd | 2.5 | 2008 | 4 | manual(m5) | 4 | 20 | 27 | r | suv        |\n",
       "| subaru     | forester awd | 2.5 | 2008 | 4 | auto(l4)   | 4 | 20 | 26 | r | suv        |\n",
       "| subaru     | impreza awd  | 2.2 | 1999 | 4 | auto(l4)   | 4 | 21 | 26 | r | subcompact |\n",
       "| subaru     | impreza awd  | 2.5 | 2008 | 4 | auto(s4)   | 4 | 20 | 25 | p | compact    |\n",
       "| subaru     | impreza awd  | 2.5 | 2008 | 4 | auto(s4)   | 4 | 20 | 27 | r | compact    |\n",
       "| subaru     | impreza awd  | 2.5 | 2008 | 4 | manual(m5) | 4 | 20 | 27 | r | compact    |\n",
       "| toyota     | camry        | 2.2 | 1999 | 4 | manual(m5) | f | 21 | 29 | r | midsize    |\n",
       "| toyota     | camry        | 2.2 | 1999 | 4 | auto(l4)   | f | 21 | 27 | r | midsize    |\n",
       "| toyota     | camry        | 2.4 | 2008 | 4 | manual(m5) | f | 21 | 31 | r | midsize    |\n",
       "| toyota     | camry        | 2.4 | 2008 | 4 | auto(l5)   | f | 21 | 31 | r | midsize    |\n",
       "| toyota     | camry solara | 2.2 | 1999 | 4 | auto(l4)   | f | 21 | 27 | r | compact    |\n",
       "| toyota     | camry solara | 2.2 | 1999 | 4 | manual(m5) | f | 21 | 29 | r | compact    |\n",
       "| toyota     | camry solara | 2.4 | 2008 | 4 | manual(m5) | f | 21 | 31 | r | compact    |\n",
       "| toyota     | camry solara | 2.4 | 2008 | 4 | auto(s5)   | f | 22 | 31 | r | compact    |\n",
       "| toyota     | corolla      | 1.8 | 1999 | 4 | auto(l3)   | f | 24 | 30 | r | compact    |\n",
       "| toyota     | corolla      | 1.8 | 1999 | 4 | auto(l4)   | f | 24 | 33 | r | compact    |\n",
       "| toyota     | corolla      | 1.8 | 1999 | 4 | manual(m5) | f | 26 | 35 | r | compact    |\n",
       "| toyota     | corolla      | 1.8 | 2008 | 4 | manual(m5) | f | 28 | 37 | r | compact    |\n",
       "| toyota     | corolla      | 1.8 | 2008 | 4 | auto(l4)   | f | 26 | 35 | r | compact    |\n",
       "| volkswagen | gti          | 2.0 | 1999 | 4 | manual(m5) | f | 21 | 29 | r | compact    |\n",
       "| volkswagen | gti          | 2.0 | 2008 | 4 | manual(m6) | f | 21 | 29 | p | compact    |\n",
       "| volkswagen | gti          | 2.0 | 2008 | 4 | auto(s6)   | f | 22 | 29 | p | compact    |\n",
       "| volkswagen | jetta        | 1.9 | 1999 | 4 | manual(m5) | f | 33 | 44 | d | compact    |\n",
       "| volkswagen | jetta        | 2.0 | 1999 | 4 | manual(m5) | f | 21 | 29 | r | compact    |\n",
       "| volkswagen | jetta        | 2.0 | 2008 | 4 | auto(s6)   | f | 22 | 29 | p | compact    |\n",
       "| volkswagen | jetta        | 2.0 | 2008 | 4 | manual(m6) | f | 21 | 29 | p | compact    |\n",
       "| volkswagen | jetta        | 2.5 | 2008 | 5 | auto(s6)   | f | 21 | 29 | r | compact    |\n",
       "| volkswagen | jetta        | 2.5 | 2008 | 5 | manual(m5) | f | 21 | 29 | r | compact    |\n",
       "| volkswagen | new beetle   | 1.9 | 1999 | 4 | manual(m5) | f | 35 | 44 | d | subcompact |\n",
       "| volkswagen | new beetle   | 1.9 | 1999 | 4 | auto(l4)   | f | 29 | 41 | d | subcompact |\n",
       "| volkswagen | new beetle   | 2.0 | 1999 | 4 | manual(m5) | f | 21 | 29 | r | subcompact |\n",
       "| volkswagen | new beetle   | 2.5 | 2008 | 5 | manual(m5) | f | 20 | 28 | r | subcompact |\n",
       "| volkswagen | new beetle   | 2.5 | 2008 | 5 | auto(s6)   | f | 20 | 29 | r | subcompact |\n",
       "| volkswagen | passat       | 1.8 | 1999 | 4 | manual(m5) | f | 21 | 29 | p | midsize    |\n",
       "| volkswagen | passat       | 2.0 | 2008 | 4 | manual(m6) | f | 21 | 29 | p | midsize    |\n",
       "\n"
      ],
      "text/plain": [
       "   manufacturer model        displ year cyl trans      drv cty hwy fl\n",
       "1  audi         a4           1.8   1999 4   manual(m5) f   21  29  p \n",
       "2  audi         a4           2.0   2008 4   manual(m6) f   20  31  p \n",
       "3  audi         a4           2.0   2008 4   auto(av)   f   21  30  p \n",
       "4  audi         a4 quattro   2.0   2008 4   manual(m6) 4   20  28  p \n",
       "5  chevrolet    malibu       2.4   2008 4   auto(l4)   f   22  30  r \n",
       "6  honda        civic        1.6   1999 4   manual(m5) f   28  33  r \n",
       "7  honda        civic        1.6   1999 4   auto(l4)   f   24  32  r \n",
       "8  honda        civic        1.6   1999 4   manual(m5) f   25  32  r \n",
       "9  honda        civic        1.6   1999 4   manual(m5) f   23  29  p \n",
       "10 honda        civic        1.6   1999 4   auto(l4)   f   24  32  r \n",
       "11 honda        civic        1.8   2008 4   manual(m5) f   26  34  r \n",
       "12 honda        civic        1.8   2008 4   auto(l5)   f   25  36  r \n",
       "13 honda        civic        1.8   2008 4   auto(l5)   f   24  36  c \n",
       "14 honda        civic        2.0   2008 4   manual(m6) f   21  29  p \n",
       "15 hyundai      sonata       2.4   2008 4   auto(l4)   f   21  30  r \n",
       "16 hyundai      sonata       2.4   2008 4   manual(m5) f   21  31  r \n",
       "17 hyundai      tiburon      2.0   2008 4   manual(m5) f   20  28  r \n",
       "18 hyundai      tiburon      2.0   2008 4   auto(l4)   f   20  27  r \n",
       "19 nissan       altima       2.4   1999 4   manual(m5) f   21  29  r \n",
       "20 nissan       altima       2.5   2008 4   auto(av)   f   23  31  r \n",
       "21 nissan       altima       2.5   2008 4   manual(m6) f   23  32  r \n",
       "22 subaru       forester awd 2.5   2008 4   manual(m5) 4   20  27  r \n",
       "23 subaru       forester awd 2.5   2008 4   auto(l4)   4   20  26  r \n",
       "24 subaru       impreza awd  2.2   1999 4   auto(l4)   4   21  26  r \n",
       "25 subaru       impreza awd  2.5   2008 4   auto(s4)   4   20  25  p \n",
       "26 subaru       impreza awd  2.5   2008 4   auto(s4)   4   20  27  r \n",
       "27 subaru       impreza awd  2.5   2008 4   manual(m5) 4   20  27  r \n",
       "28 toyota       camry        2.2   1999 4   manual(m5) f   21  29  r \n",
       "29 toyota       camry        2.2   1999 4   auto(l4)   f   21  27  r \n",
       "30 toyota       camry        2.4   2008 4   manual(m5) f   21  31  r \n",
       "31 toyota       camry        2.4   2008 4   auto(l5)   f   21  31  r \n",
       "32 toyota       camry solara 2.2   1999 4   auto(l4)   f   21  27  r \n",
       "33 toyota       camry solara 2.2   1999 4   manual(m5) f   21  29  r \n",
       "34 toyota       camry solara 2.4   2008 4   manual(m5) f   21  31  r \n",
       "35 toyota       camry solara 2.4   2008 4   auto(s5)   f   22  31  r \n",
       "36 toyota       corolla      1.8   1999 4   auto(l3)   f   24  30  r \n",
       "37 toyota       corolla      1.8   1999 4   auto(l4)   f   24  33  r \n",
       "38 toyota       corolla      1.8   1999 4   manual(m5) f   26  35  r \n",
       "39 toyota       corolla      1.8   2008 4   manual(m5) f   28  37  r \n",
       "40 toyota       corolla      1.8   2008 4   auto(l4)   f   26  35  r \n",
       "41 volkswagen   gti          2.0   1999 4   manual(m5) f   21  29  r \n",
       "42 volkswagen   gti          2.0   2008 4   manual(m6) f   21  29  p \n",
       "43 volkswagen   gti          2.0   2008 4   auto(s6)   f   22  29  p \n",
       "44 volkswagen   jetta        1.9   1999 4   manual(m5) f   33  44  d \n",
       "45 volkswagen   jetta        2.0   1999 4   manual(m5) f   21  29  r \n",
       "46 volkswagen   jetta        2.0   2008 4   auto(s6)   f   22  29  p \n",
       "47 volkswagen   jetta        2.0   2008 4   manual(m6) f   21  29  p \n",
       "48 volkswagen   jetta        2.5   2008 5   auto(s6)   f   21  29  r \n",
       "49 volkswagen   jetta        2.5   2008 5   manual(m5) f   21  29  r \n",
       "50 volkswagen   new beetle   1.9   1999 4   manual(m5) f   35  44  d \n",
       "51 volkswagen   new beetle   1.9   1999 4   auto(l4)   f   29  41  d \n",
       "52 volkswagen   new beetle   2.0   1999 4   manual(m5) f   21  29  r \n",
       "53 volkswagen   new beetle   2.5   2008 5   manual(m5) f   20  28  r \n",
       "54 volkswagen   new beetle   2.5   2008 5   auto(s6)   f   20  29  r \n",
       "55 volkswagen   passat       1.8   1999 4   manual(m5) f   21  29  p \n",
       "56 volkswagen   passat       2.0   2008 4   manual(m6) f   21  29  p \n",
       "   class     \n",
       "1  compact   \n",
       "2  compact   \n",
       "3  compact   \n",
       "4  compact   \n",
       "5  midsize   \n",
       "6  subcompact\n",
       "7  subcompact\n",
       "8  subcompact\n",
       "9  subcompact\n",
       "10 subcompact\n",
       "11 subcompact\n",
       "12 subcompact\n",
       "13 subcompact\n",
       "14 subcompact\n",
       "15 midsize   \n",
       "16 midsize   \n",
       "17 subcompact\n",
       "18 subcompact\n",
       "19 compact   \n",
       "20 midsize   \n",
       "21 midsize   \n",
       "22 suv       \n",
       "23 suv       \n",
       "24 subcompact\n",
       "25 compact   \n",
       "26 compact   \n",
       "27 compact   \n",
       "28 midsize   \n",
       "29 midsize   \n",
       "30 midsize   \n",
       "31 midsize   \n",
       "32 compact   \n",
       "33 compact   \n",
       "34 compact   \n",
       "35 compact   \n",
       "36 compact   \n",
       "37 compact   \n",
       "38 compact   \n",
       "39 compact   \n",
       "40 compact   \n",
       "41 compact   \n",
       "42 compact   \n",
       "43 compact   \n",
       "44 compact   \n",
       "45 compact   \n",
       "46 compact   \n",
       "47 compact   \n",
       "48 compact   \n",
       "49 compact   \n",
       "50 subcompact\n",
       "51 subcompact\n",
       "52 subcompact\n",
       "53 subcompact\n",
       "54 subcompact\n",
       "55 midsize   \n",
       "56 midsize   "
      ]
     },
     "metadata": {},
     "output_type": "display_data"
    }
   ],
   "source": [
    "filter(mpg,cty>=20)"
   ]
  },
  {
   "cell_type": "markdown",
   "metadata": {},
   "source": [
    "### **Efficient Cars**"
   ]
  },
  {
   "cell_type": "code",
   "execution_count": 50,
   "metadata": {
    "vscode": {
     "languageId": "r"
    }
   },
   "outputs": [
    {
     "name": "stdout",
     "output_type": "stream",
     "text": [
      "[1] 56 11\n"
     ]
    },
    {
     "data": {
      "text/html": [
       "<table class=\"dataframe\">\n",
       "<caption>A tibble: 6 × 11</caption>\n",
       "<thead>\n",
       "\t<tr><th scope=col>manufacturer</th><th scope=col>model</th><th scope=col>displ</th><th scope=col>year</th><th scope=col>cyl</th><th scope=col>trans</th><th scope=col>drv</th><th scope=col>cty</th><th scope=col>hwy</th><th scope=col>fl</th><th scope=col>class</th></tr>\n",
       "\t<tr><th scope=col>&lt;chr&gt;</th><th scope=col>&lt;chr&gt;</th><th scope=col>&lt;dbl&gt;</th><th scope=col>&lt;int&gt;</th><th scope=col>&lt;int&gt;</th><th scope=col>&lt;chr&gt;</th><th scope=col>&lt;chr&gt;</th><th scope=col>&lt;int&gt;</th><th scope=col>&lt;int&gt;</th><th scope=col>&lt;chr&gt;</th><th scope=col>&lt;chr&gt;</th></tr>\n",
       "</thead>\n",
       "<tbody>\n",
       "\t<tr><td>audi     </td><td>a4        </td><td>1.8</td><td>1999</td><td>4</td><td>manual(m5)</td><td>f</td><td>21</td><td>29</td><td>p</td><td>compact   </td></tr>\n",
       "\t<tr><td>audi     </td><td>a4        </td><td>2.0</td><td>2008</td><td>4</td><td>manual(m6)</td><td>f</td><td>20</td><td>31</td><td>p</td><td>compact   </td></tr>\n",
       "\t<tr><td>audi     </td><td>a4        </td><td>2.0</td><td>2008</td><td>4</td><td>auto(av)  </td><td>f</td><td>21</td><td>30</td><td>p</td><td>compact   </td></tr>\n",
       "\t<tr><td>audi     </td><td>a4 quattro</td><td>2.0</td><td>2008</td><td>4</td><td>manual(m6)</td><td>4</td><td>20</td><td>28</td><td>p</td><td>compact   </td></tr>\n",
       "\t<tr><td>chevrolet</td><td>malibu    </td><td>2.4</td><td>2008</td><td>4</td><td>auto(l4)  </td><td>f</td><td>22</td><td>30</td><td>r</td><td>midsize   </td></tr>\n",
       "\t<tr><td>honda    </td><td>civic     </td><td>1.6</td><td>1999</td><td>4</td><td>manual(m5)</td><td>f</td><td>28</td><td>33</td><td>r</td><td>subcompact</td></tr>\n",
       "</tbody>\n",
       "</table>\n"
      ],
      "text/latex": [
       "A tibble: 6 × 11\n",
       "\\begin{tabular}{lllllllllll}\n",
       " manufacturer & model & displ & year & cyl & trans & drv & cty & hwy & fl & class\\\\\n",
       " <chr> & <chr> & <dbl> & <int> & <int> & <chr> & <chr> & <int> & <int> & <chr> & <chr>\\\\\n",
       "\\hline\n",
       "\t audi      & a4         & 1.8 & 1999 & 4 & manual(m5) & f & 21 & 29 & p & compact   \\\\\n",
       "\t audi      & a4         & 2.0 & 2008 & 4 & manual(m6) & f & 20 & 31 & p & compact   \\\\\n",
       "\t audi      & a4         & 2.0 & 2008 & 4 & auto(av)   & f & 21 & 30 & p & compact   \\\\\n",
       "\t audi      & a4 quattro & 2.0 & 2008 & 4 & manual(m6) & 4 & 20 & 28 & p & compact   \\\\\n",
       "\t chevrolet & malibu     & 2.4 & 2008 & 4 & auto(l4)   & f & 22 & 30 & r & midsize   \\\\\n",
       "\t honda     & civic      & 1.6 & 1999 & 4 & manual(m5) & f & 28 & 33 & r & subcompact\\\\\n",
       "\\end{tabular}\n"
      ],
      "text/markdown": [
       "\n",
       "A tibble: 6 × 11\n",
       "\n",
       "| manufacturer &lt;chr&gt; | model &lt;chr&gt; | displ &lt;dbl&gt; | year &lt;int&gt; | cyl &lt;int&gt; | trans &lt;chr&gt; | drv &lt;chr&gt; | cty &lt;int&gt; | hwy &lt;int&gt; | fl &lt;chr&gt; | class &lt;chr&gt; |\n",
       "|---|---|---|---|---|---|---|---|---|---|---|\n",
       "| audi      | a4         | 1.8 | 1999 | 4 | manual(m5) | f | 21 | 29 | p | compact    |\n",
       "| audi      | a4         | 2.0 | 2008 | 4 | manual(m6) | f | 20 | 31 | p | compact    |\n",
       "| audi      | a4         | 2.0 | 2008 | 4 | auto(av)   | f | 21 | 30 | p | compact    |\n",
       "| audi      | a4 quattro | 2.0 | 2008 | 4 | manual(m6) | 4 | 20 | 28 | p | compact    |\n",
       "| chevrolet | malibu     | 2.4 | 2008 | 4 | auto(l4)   | f | 22 | 30 | r | midsize    |\n",
       "| honda     | civic      | 1.6 | 1999 | 4 | manual(m5) | f | 28 | 33 | r | subcompact |\n",
       "\n"
      ],
      "text/plain": [
       "  manufacturer model      displ year cyl trans      drv cty hwy fl class     \n",
       "1 audi         a4         1.8   1999 4   manual(m5) f   21  29  p  compact   \n",
       "2 audi         a4         2.0   2008 4   manual(m6) f   20  31  p  compact   \n",
       "3 audi         a4         2.0   2008 4   auto(av)   f   21  30  p  compact   \n",
       "4 audi         a4 quattro 2.0   2008 4   manual(m6) 4   20  28  p  compact   \n",
       "5 chevrolet    malibu     2.4   2008 4   auto(l4)   f   22  30  r  midsize   \n",
       "6 honda        civic      1.6   1999 4   manual(m5) f   28  33  r  subcompact"
      ]
     },
     "metadata": {},
     "output_type": "display_data"
    }
   ],
   "source": [
    "# Create A New Data Table\n",
    "mpg_efficient <- filter(mpg,cty>=20)\n",
    "\n",
    "# Check Data Shape\n",
    "print(dim(mpg_efficient))\n",
    "head(mpg_efficient)"
   ]
  },
  {
   "cell_type": "markdown",
   "metadata": {},
   "source": [
    "### **Ford Cars**"
   ]
  },
  {
   "cell_type": "code",
   "execution_count": 54,
   "metadata": {
    "vscode": {
     "languageId": "r"
    }
   },
   "outputs": [
    {
     "name": "stdout",
     "output_type": "stream",
     "text": [
      "[1] 25 11\n"
     ]
    },
    {
     "data": {
      "text/html": [
       "<table class=\"dataframe\">\n",
       "<caption>A tibble: 6 × 11</caption>\n",
       "<thead>\n",
       "\t<tr><th scope=col>manufacturer</th><th scope=col>model</th><th scope=col>displ</th><th scope=col>year</th><th scope=col>cyl</th><th scope=col>trans</th><th scope=col>drv</th><th scope=col>cty</th><th scope=col>hwy</th><th scope=col>fl</th><th scope=col>class</th></tr>\n",
       "\t<tr><th scope=col>&lt;chr&gt;</th><th scope=col>&lt;chr&gt;</th><th scope=col>&lt;dbl&gt;</th><th scope=col>&lt;int&gt;</th><th scope=col>&lt;int&gt;</th><th scope=col>&lt;chr&gt;</th><th scope=col>&lt;chr&gt;</th><th scope=col>&lt;int&gt;</th><th scope=col>&lt;int&gt;</th><th scope=col>&lt;chr&gt;</th><th scope=col>&lt;chr&gt;</th></tr>\n",
       "</thead>\n",
       "<tbody>\n",
       "\t<tr><td>ford</td><td>expedition 2wd</td><td>4.6</td><td>1999</td><td>8</td><td>auto(l4)  </td><td>r</td><td>11</td><td>17</td><td>r</td><td>suv</td></tr>\n",
       "\t<tr><td>ford</td><td>expedition 2wd</td><td>5.4</td><td>1999</td><td>8</td><td>auto(l4)  </td><td>r</td><td>11</td><td>17</td><td>r</td><td>suv</td></tr>\n",
       "\t<tr><td>ford</td><td>expedition 2wd</td><td>5.4</td><td>2008</td><td>8</td><td>auto(l6)  </td><td>r</td><td>12</td><td>18</td><td>r</td><td>suv</td></tr>\n",
       "\t<tr><td>ford</td><td>explorer 4wd  </td><td>4.0</td><td>1999</td><td>6</td><td>auto(l5)  </td><td>4</td><td>14</td><td>17</td><td>r</td><td>suv</td></tr>\n",
       "\t<tr><td>ford</td><td>explorer 4wd  </td><td>4.0</td><td>1999</td><td>6</td><td>manual(m5)</td><td>4</td><td>15</td><td>19</td><td>r</td><td>suv</td></tr>\n",
       "\t<tr><td>ford</td><td>explorer 4wd  </td><td>4.0</td><td>1999</td><td>6</td><td>auto(l5)  </td><td>4</td><td>14</td><td>17</td><td>r</td><td>suv</td></tr>\n",
       "</tbody>\n",
       "</table>\n"
      ],
      "text/latex": [
       "A tibble: 6 × 11\n",
       "\\begin{tabular}{lllllllllll}\n",
       " manufacturer & model & displ & year & cyl & trans & drv & cty & hwy & fl & class\\\\\n",
       " <chr> & <chr> & <dbl> & <int> & <int> & <chr> & <chr> & <int> & <int> & <chr> & <chr>\\\\\n",
       "\\hline\n",
       "\t ford & expedition 2wd & 4.6 & 1999 & 8 & auto(l4)   & r & 11 & 17 & r & suv\\\\\n",
       "\t ford & expedition 2wd & 5.4 & 1999 & 8 & auto(l4)   & r & 11 & 17 & r & suv\\\\\n",
       "\t ford & expedition 2wd & 5.4 & 2008 & 8 & auto(l6)   & r & 12 & 18 & r & suv\\\\\n",
       "\t ford & explorer 4wd   & 4.0 & 1999 & 6 & auto(l5)   & 4 & 14 & 17 & r & suv\\\\\n",
       "\t ford & explorer 4wd   & 4.0 & 1999 & 6 & manual(m5) & 4 & 15 & 19 & r & suv\\\\\n",
       "\t ford & explorer 4wd   & 4.0 & 1999 & 6 & auto(l5)   & 4 & 14 & 17 & r & suv\\\\\n",
       "\\end{tabular}\n"
      ],
      "text/markdown": [
       "\n",
       "A tibble: 6 × 11\n",
       "\n",
       "| manufacturer &lt;chr&gt; | model &lt;chr&gt; | displ &lt;dbl&gt; | year &lt;int&gt; | cyl &lt;int&gt; | trans &lt;chr&gt; | drv &lt;chr&gt; | cty &lt;int&gt; | hwy &lt;int&gt; | fl &lt;chr&gt; | class &lt;chr&gt; |\n",
       "|---|---|---|---|---|---|---|---|---|---|---|\n",
       "| ford | expedition 2wd | 4.6 | 1999 | 8 | auto(l4)   | r | 11 | 17 | r | suv |\n",
       "| ford | expedition 2wd | 5.4 | 1999 | 8 | auto(l4)   | r | 11 | 17 | r | suv |\n",
       "| ford | expedition 2wd | 5.4 | 2008 | 8 | auto(l6)   | r | 12 | 18 | r | suv |\n",
       "| ford | explorer 4wd   | 4.0 | 1999 | 6 | auto(l5)   | 4 | 14 | 17 | r | suv |\n",
       "| ford | explorer 4wd   | 4.0 | 1999 | 6 | manual(m5) | 4 | 15 | 19 | r | suv |\n",
       "| ford | explorer 4wd   | 4.0 | 1999 | 6 | auto(l5)   | 4 | 14 | 17 | r | suv |\n",
       "\n"
      ],
      "text/plain": [
       "  manufacturer model          displ year cyl trans      drv cty hwy fl class\n",
       "1 ford         expedition 2wd 4.6   1999 8   auto(l4)   r   11  17  r  suv  \n",
       "2 ford         expedition 2wd 5.4   1999 8   auto(l4)   r   11  17  r  suv  \n",
       "3 ford         expedition 2wd 5.4   2008 8   auto(l6)   r   12  18  r  suv  \n",
       "4 ford         explorer 4wd   4.0   1999 6   auto(l5)   4   14  17  r  suv  \n",
       "5 ford         explorer 4wd   4.0   1999 6   manual(m5) 4   15  19  r  suv  \n",
       "6 ford         explorer 4wd   4.0   1999 6   auto(l5)   4   14  17  r  suv  "
      ]
     },
     "metadata": {},
     "output_type": "display_data"
    }
   ],
   "source": [
    "mpg_ford = filter(mpg,manufacturer==\"ford\")\n",
    "\n",
    "print(dim(mpg_ford))\n",
    "head(mpg_ford)"
   ]
  },
  {
   "cell_type": "markdown",
   "metadata": {},
   "source": [
    "## **Add New Column**"
   ]
  },
  {
   "cell_type": "code",
   "execution_count": 56,
   "metadata": {
    "vscode": {
     "languageId": "r"
    }
   },
   "outputs": [
    {
     "name": "stdout",
     "output_type": "stream",
     "text": [
      "[1] 234  12\n"
     ]
    },
    {
     "data": {
      "text/html": [
       "<table class=\"dataframe\">\n",
       "<caption>A tibble: 6 × 12</caption>\n",
       "<thead>\n",
       "\t<tr><th scope=col>manufacturer</th><th scope=col>model</th><th scope=col>displ</th><th scope=col>year</th><th scope=col>cyl</th><th scope=col>trans</th><th scope=col>drv</th><th scope=col>cty</th><th scope=col>hwy</th><th scope=col>fl</th><th scope=col>class</th><th scope=col>cty_metric</th></tr>\n",
       "\t<tr><th scope=col>&lt;chr&gt;</th><th scope=col>&lt;chr&gt;</th><th scope=col>&lt;dbl&gt;</th><th scope=col>&lt;int&gt;</th><th scope=col>&lt;int&gt;</th><th scope=col>&lt;chr&gt;</th><th scope=col>&lt;chr&gt;</th><th scope=col>&lt;int&gt;</th><th scope=col>&lt;int&gt;</th><th scope=col>&lt;chr&gt;</th><th scope=col>&lt;chr&gt;</th><th scope=col>&lt;dbl&gt;</th></tr>\n",
       "</thead>\n",
       "<tbody>\n",
       "\t<tr><td>audi</td><td>a4</td><td>1.8</td><td>1999</td><td>4</td><td>auto(l5)  </td><td>f</td><td>18</td><td>29</td><td>p</td><td>compact</td><td>7.652592</td></tr>\n",
       "\t<tr><td>audi</td><td>a4</td><td>1.8</td><td>1999</td><td>4</td><td>manual(m5)</td><td>f</td><td>21</td><td>29</td><td>p</td><td>compact</td><td>8.928024</td></tr>\n",
       "\t<tr><td>audi</td><td>a4</td><td>2.0</td><td>2008</td><td>4</td><td>manual(m6)</td><td>f</td><td>20</td><td>31</td><td>p</td><td>compact</td><td>8.502880</td></tr>\n",
       "\t<tr><td>audi</td><td>a4</td><td>2.0</td><td>2008</td><td>4</td><td>auto(av)  </td><td>f</td><td>21</td><td>30</td><td>p</td><td>compact</td><td>8.928024</td></tr>\n",
       "\t<tr><td>audi</td><td>a4</td><td>2.8</td><td>1999</td><td>6</td><td>auto(l5)  </td><td>f</td><td>16</td><td>26</td><td>p</td><td>compact</td><td>6.802304</td></tr>\n",
       "\t<tr><td>audi</td><td>a4</td><td>2.8</td><td>1999</td><td>6</td><td>manual(m5)</td><td>f</td><td>18</td><td>26</td><td>p</td><td>compact</td><td>7.652592</td></tr>\n",
       "</tbody>\n",
       "</table>\n"
      ],
      "text/latex": [
       "A tibble: 6 × 12\n",
       "\\begin{tabular}{llllllllllll}\n",
       " manufacturer & model & displ & year & cyl & trans & drv & cty & hwy & fl & class & cty\\_metric\\\\\n",
       " <chr> & <chr> & <dbl> & <int> & <int> & <chr> & <chr> & <int> & <int> & <chr> & <chr> & <dbl>\\\\\n",
       "\\hline\n",
       "\t audi & a4 & 1.8 & 1999 & 4 & auto(l5)   & f & 18 & 29 & p & compact & 7.652592\\\\\n",
       "\t audi & a4 & 1.8 & 1999 & 4 & manual(m5) & f & 21 & 29 & p & compact & 8.928024\\\\\n",
       "\t audi & a4 & 2.0 & 2008 & 4 & manual(m6) & f & 20 & 31 & p & compact & 8.502880\\\\\n",
       "\t audi & a4 & 2.0 & 2008 & 4 & auto(av)   & f & 21 & 30 & p & compact & 8.928024\\\\\n",
       "\t audi & a4 & 2.8 & 1999 & 6 & auto(l5)   & f & 16 & 26 & p & compact & 6.802304\\\\\n",
       "\t audi & a4 & 2.8 & 1999 & 6 & manual(m5) & f & 18 & 26 & p & compact & 7.652592\\\\\n",
       "\\end{tabular}\n"
      ],
      "text/markdown": [
       "\n",
       "A tibble: 6 × 12\n",
       "\n",
       "| manufacturer &lt;chr&gt; | model &lt;chr&gt; | displ &lt;dbl&gt; | year &lt;int&gt; | cyl &lt;int&gt; | trans &lt;chr&gt; | drv &lt;chr&gt; | cty &lt;int&gt; | hwy &lt;int&gt; | fl &lt;chr&gt; | class &lt;chr&gt; | cty_metric &lt;dbl&gt; |\n",
       "|---|---|---|---|---|---|---|---|---|---|---|---|\n",
       "| audi | a4 | 1.8 | 1999 | 4 | auto(l5)   | f | 18 | 29 | p | compact | 7.652592 |\n",
       "| audi | a4 | 1.8 | 1999 | 4 | manual(m5) | f | 21 | 29 | p | compact | 8.928024 |\n",
       "| audi | a4 | 2.0 | 2008 | 4 | manual(m6) | f | 20 | 31 | p | compact | 8.502880 |\n",
       "| audi | a4 | 2.0 | 2008 | 4 | auto(av)   | f | 21 | 30 | p | compact | 8.928024 |\n",
       "| audi | a4 | 2.8 | 1999 | 6 | auto(l5)   | f | 16 | 26 | p | compact | 6.802304 |\n",
       "| audi | a4 | 2.8 | 1999 | 6 | manual(m5) | f | 18 | 26 | p | compact | 7.652592 |\n",
       "\n"
      ],
      "text/plain": [
       "  manufacturer model displ year cyl trans      drv cty hwy fl class  \n",
       "1 audi         a4    1.8   1999 4   auto(l5)   f   18  29  p  compact\n",
       "2 audi         a4    1.8   1999 4   manual(m5) f   21  29  p  compact\n",
       "3 audi         a4    2.0   2008 4   manual(m6) f   20  31  p  compact\n",
       "4 audi         a4    2.0   2008 4   auto(av)   f   21  30  p  compact\n",
       "5 audi         a4    2.8   1999 6   auto(l5)   f   16  26  p  compact\n",
       "6 audi         a4    2.8   1999 6   manual(m5) f   18  26  p  compact\n",
       "  cty_metric\n",
       "1 7.652592  \n",
       "2 8.928024  \n",
       "3 8.502880  \n",
       "4 8.928024  \n",
       "5 6.802304  \n",
       "6 7.652592  "
      ]
     },
     "metadata": {},
     "output_type": "display_data"
    }
   ],
   "source": [
    "mpg_metric = mutate(mpg,cty_metric = 0.425144*cty)\n",
    "\n",
    "print(dim(mpg_metric))\n",
    "head(mpg_metric)"
   ]
  },
  {
   "cell_type": "markdown",
   "metadata": {},
   "source": [
    "## **Operation Pipeline**"
   ]
  },
  {
   "cell_type": "code",
   "execution_count": 58,
   "metadata": {
    "vscode": {
     "languageId": "r"
    }
   },
   "outputs": [
    {
     "name": "stdout",
     "output_type": "stream",
     "text": [
      "[1] 234  12\n"
     ]
    },
    {
     "data": {
      "text/html": [
       "<table class=\"dataframe\">\n",
       "<caption>A tibble: 6 × 12</caption>\n",
       "<thead>\n",
       "\t<tr><th scope=col>manufacturer</th><th scope=col>model</th><th scope=col>displ</th><th scope=col>year</th><th scope=col>cyl</th><th scope=col>trans</th><th scope=col>drv</th><th scope=col>cty</th><th scope=col>hwy</th><th scope=col>fl</th><th scope=col>class</th><th scope=col>cty_metric</th></tr>\n",
       "\t<tr><th scope=col>&lt;chr&gt;</th><th scope=col>&lt;chr&gt;</th><th scope=col>&lt;dbl&gt;</th><th scope=col>&lt;int&gt;</th><th scope=col>&lt;int&gt;</th><th scope=col>&lt;chr&gt;</th><th scope=col>&lt;chr&gt;</th><th scope=col>&lt;int&gt;</th><th scope=col>&lt;int&gt;</th><th scope=col>&lt;chr&gt;</th><th scope=col>&lt;chr&gt;</th><th scope=col>&lt;dbl&gt;</th></tr>\n",
       "</thead>\n",
       "<tbody>\n",
       "\t<tr><td>audi</td><td>a4</td><td>1.8</td><td>1999</td><td>4</td><td>auto(l5)  </td><td>f</td><td>18</td><td>29</td><td>p</td><td>compact</td><td>7.652592</td></tr>\n",
       "\t<tr><td>audi</td><td>a4</td><td>1.8</td><td>1999</td><td>4</td><td>manual(m5)</td><td>f</td><td>21</td><td>29</td><td>p</td><td>compact</td><td>8.928024</td></tr>\n",
       "\t<tr><td>audi</td><td>a4</td><td>2.0</td><td>2008</td><td>4</td><td>manual(m6)</td><td>f</td><td>20</td><td>31</td><td>p</td><td>compact</td><td>8.502880</td></tr>\n",
       "\t<tr><td>audi</td><td>a4</td><td>2.0</td><td>2008</td><td>4</td><td>auto(av)  </td><td>f</td><td>21</td><td>30</td><td>p</td><td>compact</td><td>8.928024</td></tr>\n",
       "\t<tr><td>audi</td><td>a4</td><td>2.8</td><td>1999</td><td>6</td><td>auto(l5)  </td><td>f</td><td>16</td><td>26</td><td>p</td><td>compact</td><td>6.802304</td></tr>\n",
       "\t<tr><td>audi</td><td>a4</td><td>2.8</td><td>1999</td><td>6</td><td>manual(m5)</td><td>f</td><td>18</td><td>26</td><td>p</td><td>compact</td><td>7.652592</td></tr>\n",
       "</tbody>\n",
       "</table>\n"
      ],
      "text/latex": [
       "A tibble: 6 × 12\n",
       "\\begin{tabular}{llllllllllll}\n",
       " manufacturer & model & displ & year & cyl & trans & drv & cty & hwy & fl & class & cty\\_metric\\\\\n",
       " <chr> & <chr> & <dbl> & <int> & <int> & <chr> & <chr> & <int> & <int> & <chr> & <chr> & <dbl>\\\\\n",
       "\\hline\n",
       "\t audi & a4 & 1.8 & 1999 & 4 & auto(l5)   & f & 18 & 29 & p & compact & 7.652592\\\\\n",
       "\t audi & a4 & 1.8 & 1999 & 4 & manual(m5) & f & 21 & 29 & p & compact & 8.928024\\\\\n",
       "\t audi & a4 & 2.0 & 2008 & 4 & manual(m6) & f & 20 & 31 & p & compact & 8.502880\\\\\n",
       "\t audi & a4 & 2.0 & 2008 & 4 & auto(av)   & f & 21 & 30 & p & compact & 8.928024\\\\\n",
       "\t audi & a4 & 2.8 & 1999 & 6 & auto(l5)   & f & 16 & 26 & p & compact & 6.802304\\\\\n",
       "\t audi & a4 & 2.8 & 1999 & 6 & manual(m5) & f & 18 & 26 & p & compact & 7.652592\\\\\n",
       "\\end{tabular}\n"
      ],
      "text/markdown": [
       "\n",
       "A tibble: 6 × 12\n",
       "\n",
       "| manufacturer &lt;chr&gt; | model &lt;chr&gt; | displ &lt;dbl&gt; | year &lt;int&gt; | cyl &lt;int&gt; | trans &lt;chr&gt; | drv &lt;chr&gt; | cty &lt;int&gt; | hwy &lt;int&gt; | fl &lt;chr&gt; | class &lt;chr&gt; | cty_metric &lt;dbl&gt; |\n",
       "|---|---|---|---|---|---|---|---|---|---|---|---|\n",
       "| audi | a4 | 1.8 | 1999 | 4 | auto(l5)   | f | 18 | 29 | p | compact | 7.652592 |\n",
       "| audi | a4 | 1.8 | 1999 | 4 | manual(m5) | f | 21 | 29 | p | compact | 8.928024 |\n",
       "| audi | a4 | 2.0 | 2008 | 4 | manual(m6) | f | 20 | 31 | p | compact | 8.502880 |\n",
       "| audi | a4 | 2.0 | 2008 | 4 | auto(av)   | f | 21 | 30 | p | compact | 8.928024 |\n",
       "| audi | a4 | 2.8 | 1999 | 6 | auto(l5)   | f | 16 | 26 | p | compact | 6.802304 |\n",
       "| audi | a4 | 2.8 | 1999 | 6 | manual(m5) | f | 18 | 26 | p | compact | 7.652592 |\n",
       "\n"
      ],
      "text/plain": [
       "  manufacturer model displ year cyl trans      drv cty hwy fl class  \n",
       "1 audi         a4    1.8   1999 4   auto(l5)   f   18  29  p  compact\n",
       "2 audi         a4    1.8   1999 4   manual(m5) f   21  29  p  compact\n",
       "3 audi         a4    2.0   2008 4   manual(m6) f   20  31  p  compact\n",
       "4 audi         a4    2.0   2008 4   auto(av)   f   21  30  p  compact\n",
       "5 audi         a4    2.8   1999 6   auto(l5)   f   16  26  p  compact\n",
       "6 audi         a4    2.8   1999 6   manual(m5) f   18  26  p  compact\n",
       "  cty_metric\n",
       "1 7.652592  \n",
       "2 8.928024  \n",
       "3 8.502880  \n",
       "4 8.928024  \n",
       "5 6.802304  \n",
       "6 7.652592  "
      ]
     },
     "metadata": {},
     "output_type": "display_data"
    }
   ],
   "source": [
    "mpg_metric <- mpg %>%\n",
    "    mutate(cty_metric = 0.425144 * cty) \n",
    "\n",
    "print(dim(mpg_metric))\n",
    "head(mpg_metric)"
   ]
  },
  {
   "cell_type": "markdown",
   "metadata": {},
   "source": [
    "## **Groupby**"
   ]
  },
  {
   "cell_type": "code",
   "execution_count": 62,
   "metadata": {
    "vscode": {
     "languageId": "r"
    }
   },
   "outputs": [
    {
     "data": {
      "text/html": [
       "<table class=\"dataframe\">\n",
       "<caption>A tibble: 7 × 6</caption>\n",
       "<thead>\n",
       "\t<tr><th scope=col>class</th><th scope=col>min(cty)</th><th scope=col>max(cty)</th><th scope=col>mean(cty)</th><th scope=col>median(cty)</th><th scope=col>sqrt(var(cty))</th></tr>\n",
       "\t<tr><th scope=col>&lt;chr&gt;</th><th scope=col>&lt;int&gt;</th><th scope=col>&lt;int&gt;</th><th scope=col>&lt;dbl&gt;</th><th scope=col>&lt;dbl&gt;</th><th scope=col>&lt;dbl&gt;</th></tr>\n",
       "</thead>\n",
       "<tbody>\n",
       "\t<tr><td>2seater   </td><td>15</td><td>16</td><td>15.40000</td><td>15</td><td>0.5477226</td></tr>\n",
       "\t<tr><td>compact   </td><td>15</td><td>33</td><td>20.12766</td><td>20</td><td>3.3854999</td></tr>\n",
       "\t<tr><td>midsize   </td><td>15</td><td>23</td><td>18.75610</td><td>18</td><td>1.9465416</td></tr>\n",
       "\t<tr><td>minivan   </td><td>11</td><td>18</td><td>15.81818</td><td>16</td><td>1.8340219</td></tr>\n",
       "\t<tr><td>pickup    </td><td> 9</td><td>17</td><td>13.00000</td><td>13</td><td>2.0463382</td></tr>\n",
       "\t<tr><td>subcompact</td><td>14</td><td>35</td><td>20.37143</td><td>19</td><td>4.6023377</td></tr>\n",
       "\t<tr><td>suv       </td><td> 9</td><td>20</td><td>13.50000</td><td>13</td><td>2.4208791</td></tr>\n",
       "</tbody>\n",
       "</table>\n"
      ],
      "text/latex": [
       "A tibble: 7 × 6\n",
       "\\begin{tabular}{llllll}\n",
       " class & min(cty) & max(cty) & mean(cty) & median(cty) & sqrt(var(cty))\\\\\n",
       " <chr> & <int> & <int> & <dbl> & <dbl> & <dbl>\\\\\n",
       "\\hline\n",
       "\t 2seater    & 15 & 16 & 15.40000 & 15 & 0.5477226\\\\\n",
       "\t compact    & 15 & 33 & 20.12766 & 20 & 3.3854999\\\\\n",
       "\t midsize    & 15 & 23 & 18.75610 & 18 & 1.9465416\\\\\n",
       "\t minivan    & 11 & 18 & 15.81818 & 16 & 1.8340219\\\\\n",
       "\t pickup     &  9 & 17 & 13.00000 & 13 & 2.0463382\\\\\n",
       "\t subcompact & 14 & 35 & 20.37143 & 19 & 4.6023377\\\\\n",
       "\t suv        &  9 & 20 & 13.50000 & 13 & 2.4208791\\\\\n",
       "\\end{tabular}\n"
      ],
      "text/markdown": [
       "\n",
       "A tibble: 7 × 6\n",
       "\n",
       "| class &lt;chr&gt; | min(cty) &lt;int&gt; | max(cty) &lt;int&gt; | mean(cty) &lt;dbl&gt; | median(cty) &lt;dbl&gt; | sqrt(var(cty)) &lt;dbl&gt; |\n",
       "|---|---|---|---|---|---|\n",
       "| 2seater    | 15 | 16 | 15.40000 | 15 | 0.5477226 |\n",
       "| compact    | 15 | 33 | 20.12766 | 20 | 3.3854999 |\n",
       "| midsize    | 15 | 23 | 18.75610 | 18 | 1.9465416 |\n",
       "| minivan    | 11 | 18 | 15.81818 | 16 | 1.8340219 |\n",
       "| pickup     |  9 | 17 | 13.00000 | 13 | 2.0463382 |\n",
       "| subcompact | 14 | 35 | 20.37143 | 19 | 4.6023377 |\n",
       "| suv        |  9 | 20 | 13.50000 | 13 | 2.4208791 |\n",
       "\n"
      ],
      "text/plain": [
       "  class      min(cty) max(cty) mean(cty) median(cty) sqrt(var(cty))\n",
       "1 2seater    15       16       15.40000  15          0.5477226     \n",
       "2 compact    15       33       20.12766  20          3.3854999     \n",
       "3 midsize    15       23       18.75610  18          1.9465416     \n",
       "4 minivan    11       18       15.81818  16          1.8340219     \n",
       "5 pickup      9       17       13.00000  13          2.0463382     \n",
       "6 subcompact 14       35       20.37143  19          4.6023377     \n",
       "7 suv         9       20       13.50000  13          2.4208791     "
      ]
     },
     "metadata": {},
     "output_type": "display_data"
    }
   ],
   "source": [
    "mpg %>%\n",
    "    group_by(class) %>%\n",
    "    summarise(min(cty),max(cty),mean(cty),median(cty),sqrt(var(cty)))"
   ]
  },
  {
   "cell_type": "markdown",
   "metadata": {},
   "source": [
    "# **Data Visualization - ggplot2**"
   ]
  },
  {
   "cell_type": "markdown",
   "metadata": {},
   "source": [
    "## **Histogram**"
   ]
  },
  {
   "cell_type": "code",
   "execution_count": 66,
   "metadata": {
    "vscode": {
     "languageId": "r"
    }
   },
   "outputs": [
    {
     "name": "stderr",
     "output_type": "stream",
     "text": [
      "\u001b[1m\u001b[22m`stat_bin()` using `bins = 30`. Pick better value with `binwidth`.\n",
      "\u001b[1m\u001b[22m`stat_bin()` using `bins = 30`. Pick better value with `binwidth`.\n"
     ]
    },
    {
     "data": {
      "image/png": "[encoded data removed]",
      "text/plain": [
       "plot without title"
      ]
     },
     "metadata": {
      "image/png": {
       "height": 420,
       "width": 420
      }
     },
     "output_type": "display_data"
    }
   ],
   "source": [
    "ggplot(mpg,aes(x = cty)) + \n",
    "    geom_histogram() + \n",
    "    geom_freqpoly() +\n",
    "    labs(x='City Mileage',y='Car Count')"
   ]
  },
  {
   "cell_type": "markdown",
   "metadata": {},
   "source": [
    "## **Scatterplot**"
   ]
  },
  {
   "cell_type": "code",
   "execution_count": 74,
   "metadata": {
    "vscode": {
     "languageId": "r"
    }
   },
   "outputs": [
    {
     "data": {
      "image/png": "[encoded data removed]",
      "text/plain": [
       "plot without title"
      ]
     },
     "metadata": {
      "image/png": {
       "height": 420,
       "width": 420
      }
     },
     "output_type": "display_data"
    }
   ],
   "source": [
    "ggplot(mpg,aes(x=cty,y=hwy)) + \n",
    "    geom_point() "
   ]
  },
  {
   "cell_type": "markdown",
   "metadata": {},
   "source": [
    "### **Show Regression Line**"
   ]
  },
  {
   "cell_type": "code",
   "execution_count": 83,
   "metadata": {
    "vscode": {
     "languageId": "r"
    }
   },
   "outputs": [
    {
     "name": "stderr",
     "output_type": "stream",
     "text": [
      "\u001b[1m\u001b[22m`geom_smooth()` using formula = 'y ~ x'\n"
     ]
    },
    {
     "data": {
      "image/png": "[encoded data removed]",
      "text/plain": [
       "plot without title"
      ]
     },
     "metadata": {
      "image/png": {
       "height": 420,
       "width": 420
      }
     },
     "output_type": "display_data"
    }
   ],
   "source": [
    "ggplot(mpg,aes(x=cty,y=hwy)) + \n",
    "        geom_point() + \n",
    "        geom_smooth(method = 'lm') "
   ]
  },
  {
   "cell_type": "markdown",
   "metadata": {},
   "source": [
    "### **Use Colors**"
   ]
  },
  {
   "cell_type": "code",
   "execution_count": 73,
   "metadata": {
    "vscode": {
     "languageId": "r"
    }
   },
   "outputs": [
    {
     "data": {
      "image/png": "[encoded data removed]",
      "text/plain": [
       "plot without title"
      ]
     },
     "metadata": {
      "image/png": {
       "height": 420,
       "width": 420
      }
     },
     "output_type": "display_data"
    }
   ],
   "source": [
    "ggplot(mpg,aes(x=cty,y=hwy,color=class)) + \n",
    "    geom_point()"
   ]
  },
  {
   "cell_type": "code",
   "execution_count": 71,
   "metadata": {
    "vscode": {
     "languageId": "r"
    }
   },
   "outputs": [
    {
     "name": "stderr",
     "output_type": "stream",
     "text": [
      "\u001b[1m\u001b[22m`geom_smooth()` using formula = 'y ~ x'\n"
     ]
    },
    {
     "data": {
      "image/png": "[encoded data removed]",
      "text/plain": [
       "plot without title"
      ]
     },
     "metadata": {
      "image/png": {
       "height": 420,
       "width": 420
      }
     },
     "output_type": "display_data"
    }
   ],
   "source": [
    "ggplot(mpg,aes(x=cty,y=hwy,color=class)) + \n",
    "    geom_point() +\n",
    "    geom_smooth(method = 'lm')"
   ]
  },
  {
   "cell_type": "markdown",
   "metadata": {},
   "source": [
    "### **Use Color Pallete**"
   ]
  },
  {
   "cell_type": "code",
   "execution_count": 84,
   "metadata": {
    "vscode": {
     "languageId": "r"
    }
   },
   "outputs": [
    {
     "data": {
      "image/png": "[encoded data removed]",
      "text/plain": [
       "plot without title"
      ]
     },
     "metadata": {
      "image/png": {
       "height": 420,
       "width": 420
      }
     },
     "output_type": "display_data"
    }
   ],
   "source": [
    "ggplot(mpg,aes(x=cty,y=hwy,color=class)) + \n",
    "    geom_point() + \n",
    "    scale_color_brewer(palette = 'Dark2')"
   ]
  }
 ],
 "metadata": {
  "kernelspec": {
   "display_name": "R",
   "language": "R",
   "name": "ir"
  },
  "language_info": {
   "codemirror_mode": "r",
   "file_extension": ".r",
   "mimetype": "text/x-r-source",
   "name": "R",
   "pygments_lexer": "r",
   "version": "4.3.2"
  }
 },
 "nbformat": 4,
 "nbformat_minor": 2
}
